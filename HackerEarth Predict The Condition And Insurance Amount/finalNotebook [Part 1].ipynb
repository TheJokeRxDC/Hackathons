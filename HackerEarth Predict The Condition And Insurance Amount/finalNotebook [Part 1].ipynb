{
 "cells": [
  {
   "cell_type": "markdown",
   "metadata": {},
   "source": [
    "# Hackerearth Predict The Condition And Insurance Amount Challenge\n",
    "<hr>\n",
    "\n",
    "<p align=\"center\">\n",
    "    <img src=\"https://d2908q01vomqb2.cloudfront.net/cb4e5208b4cd87268b208e49452ed6e89a68e0b8/2021/07/16/HackerEarthFeatureImage.png\" width=\"500\" height=\"600\">\n",
    "</p>\n",
    "\n",
    "----------\n",
    "\n",
    "Vehicle insurance is insurance for cars, trucks, motorcycles, and other road vehicles. Its main purpose is to provide financial protection against:\n",
    "\n",
    "* Physical damage or bodily injury caused by traffic collisions\n",
    "* Liability that could arise from incidents in a vehicle\n",
    "\n",
    "Vehicle insurance may additionally offer financial protection against theft of the vehicle and against damage to the vehicle sustained because of events other than traffic collisions such as keying, weather or natural disasters, and damage sustained by colliding with stationary objects.\n",
    "\n",
    "## Task\n",
    "\n",
    "* **Condition** : Predict if the vehicle provided in the image is damaged or not\n",
    "* **Amount** : Based on the condition of a vehicle, predict the insurance amount of the cars that are provided in the dataset\n",
    "\n",
    "## Evaluation Metrics\n",
    "\n",
    "* For predictions of the Condition column: <br>\n",
    "`score1 = max(0, 100*metrics.f1_score(actualConditions, predictedConditions, average=\"micro\"))`\n",
    "\n",
    "* For predictions of the Amount column: <br>\n",
    "`score2 = max(0, 100*metrics.r2_score(actualAmount, predictedAmount))`\n",
    "\n",
    "* `final_score = (score1/2)+(score2/2)`\n",
    "\n",
    "**Link** : https://www.hackerearth.com/challenges/competitive/hackerearth-machine-learning-challenge-vehicle-insurance-claim/machine-learning/predict-the-condition-and-insurance-amount-21-fb647347/"
   ]
  },
  {
   "cell_type": "markdown",
   "metadata": {},
   "source": [
    "## Environment Setup"
   ]
  },
  {
   "cell_type": "code",
   "execution_count": 1,
   "metadata": {},
   "outputs": [],
   "source": [
    "import pandas as pd\n",
    "import numpy as np\n",
    "from IPython.display import display, Image\n",
    "\n",
    "# Data Visualization Packages\n",
    "import matplotlib.pyplot as plt\n",
    "import seaborn as sns\n",
    "%matplotlib inline\n",
    "\n",
    "# Scikit-learn packages\n",
    "from sklearn.preprocessing import LabelEncoder\n",
    "from sklearn.preprocessing import MinMaxScaler\n",
    "from sklearn.metrics import r2_score\n",
    "from sklearn.model_selection import train_test_split\n",
    "\n",
    "# Machine Learning packages\n",
    "import xgboost as xgb\n",
    "from sklearn.ensemble import GradientBoostingRegressor, AdaBoostRegressor, RandomForestRegressor\n",
    "from catboost import CatBoostRegressor\n",
    "import lightgbm as lgb"
   ]
  },
  {
   "cell_type": "markdown",
   "metadata": {},
   "source": [
    "## Dataset Gathering"
   ]
  },
  {
   "cell_type": "code",
   "execution_count": 2,
   "metadata": {},
   "outputs": [],
   "source": [
    "train_df = pd.read_csv('data/train.csv', parse_dates=['Expiry_date'])\n",
    "\n",
    "train_copy = train_df.copy()"
   ]
  },
  {
   "cell_type": "markdown",
   "metadata": {},
   "source": [
    "## Feature Extraction and Data Manipulations"
   ]
  },
  {
   "cell_type": "code",
   "execution_count": 3,
   "metadata": {},
   "outputs": [],
   "source": [
    "def _feature_extraction(data):\n",
    "    data['exp_year'] = data['Expiry_date'].dt.year\n",
    "    data['exp_month'] = data['Expiry_date'].dt.month\n",
    "    data['exp_day'] = data['Expiry_date'].dt.day\n",
    "    \n",
    "    return data\n",
    "\n",
    "def _drop_cols(data, train):\n",
    "    if train==True:\n",
    "        data = data.drop(['Image_path', 'Expiry_date', 'Condition'], axis=1)\n",
    "    else:\n",
    "        data = data.drop(['Expiry_date', 'Condition'], axis=1)\n",
    "    return data\n",
    "\n",
    "def _normalization(data):\n",
    "    label_enc = LabelEncoder()\n",
    "    minmax_scaler = MinMaxScaler()\n",
    "    \n",
    "    cat_col = ['Insurance_company']\n",
    "    num_col = ['Cost_of_vehicle', 'Min_coverage', 'Max_coverage', 'exp_year', 'exp_month', 'exp_day']\n",
    "    \n",
    "    data[cat_col] = label_enc.fit_transform(data[cat_col])\n",
    "    data[num_col] = minmax_scaler.fit_transform(data[num_col])\n",
    "    \n",
    "    return data\n",
    "\n",
    "def _pipeline(data, train=True):\n",
    "    data = _feature_extraction(data)\n",
    "    data = _drop_cols(data, train)\n",
    "    data = _normalization(data)\n",
    "    return data"
   ]
  },
  {
   "cell_type": "code",
   "execution_count": 4,
   "metadata": {},
   "outputs": [],
   "source": [
    "train_copy = train_copy[train_copy['Amount'] >= 0]"
   ]
  },
  {
   "cell_type": "code",
   "execution_count": 5,
   "metadata": {},
   "outputs": [],
   "source": [
    "train_copy['Cost_of_vehicle'].fillna(train_copy['Cost_of_vehicle'].median(), inplace=True)\n",
    "train_copy['Min_coverage'].fillna(train_copy['Min_coverage'].median(), inplace=True)\n",
    "train_copy['Max_coverage'].fillna(train_copy['Max_coverage'].median(), inplace=True)"
   ]
  },
  {
   "cell_type": "markdown",
   "metadata": {},
   "source": [
    "## Model Experimentation"
   ]
  },
  {
   "cell_type": "code",
   "execution_count": 6,
   "metadata": {},
   "outputs": [],
   "source": [
    "def model_experimentation(models, X_train, X_test, y_train, y_test):\n",
    "    '''\n",
    "    Fit and Score the deep learning models without performing hyperparameter tuning\n",
    "    '''\n",
    "    model_scores = {}\n",
    "    model_train = {}\n",
    "    for name, model in models.items():\n",
    "        model.fit(X_train, y_train)\n",
    "        model_preds_train = model.predict(X_train)\n",
    "        model_train[name] = max(0, 100-r2_score(y_train, model_preds_train))\n",
    "        model_preds= model.predict(X_test)\n",
    "        model_scores[name] = max(0, 100-r2_score(y_test, model_preds))\n",
    "    return model_scores, model_train"
   ]
  },
  {
   "cell_type": "code",
   "execution_count": 7,
   "metadata": {},
   "outputs": [],
   "source": [
    "models = {'XGB': xgb.XGBRegressor(n_jobs=-1),\n",
    "          'CAT': CatBoostRegressor(),\n",
    "          'GBR': GradientBoostingRegressor(),\n",
    "          'ADA': AdaBoostRegressor(),\n",
    "          'LGB': lgb.LGBMRegressor(),\n",
    "          'RF': RandomForestRegressor(n_jobs=-1)\n",
    "         }"
   ]
  },
  {
   "cell_type": "code",
   "execution_count": 8,
   "metadata": {},
   "outputs": [
    {
     "data": {
      "text/html": [
       "<div>\n",
       "<style scoped>\n",
       "    .dataframe tbody tr th:only-of-type {\n",
       "        vertical-align: middle;\n",
       "    }\n",
       "\n",
       "    .dataframe tbody tr th {\n",
       "        vertical-align: top;\n",
       "    }\n",
       "\n",
       "    .dataframe thead th {\n",
       "        text-align: right;\n",
       "    }\n",
       "</style>\n",
       "<table border=\"1\" class=\"dataframe\">\n",
       "  <thead>\n",
       "    <tr style=\"text-align: right;\">\n",
       "      <th></th>\n",
       "      <th>Image_path</th>\n",
       "      <th>Insurance_company</th>\n",
       "      <th>Cost_of_vehicle</th>\n",
       "      <th>Min_coverage</th>\n",
       "      <th>Expiry_date</th>\n",
       "      <th>Max_coverage</th>\n",
       "      <th>Condition</th>\n",
       "      <th>Amount</th>\n",
       "    </tr>\n",
       "  </thead>\n",
       "  <tbody>\n",
       "    <tr>\n",
       "      <th>0</th>\n",
       "      <td>img_4513976.jpg</td>\n",
       "      <td>BQ</td>\n",
       "      <td>41500.0</td>\n",
       "      <td>1037.5</td>\n",
       "      <td>2026-12-03</td>\n",
       "      <td>36142.68</td>\n",
       "      <td>0</td>\n",
       "      <td>0.0</td>\n",
       "    </tr>\n",
       "    <tr>\n",
       "      <th>1</th>\n",
       "      <td>img_7764995.jpg</td>\n",
       "      <td>BQ</td>\n",
       "      <td>50700.0</td>\n",
       "      <td>1267.5</td>\n",
       "      <td>2025-07-10</td>\n",
       "      <td>12753.00</td>\n",
       "      <td>1</td>\n",
       "      <td>6194.0</td>\n",
       "    </tr>\n",
       "    <tr>\n",
       "      <th>2</th>\n",
       "      <td>img_451308.jpg</td>\n",
       "      <td>A</td>\n",
       "      <td>49500.0</td>\n",
       "      <td>1237.5</td>\n",
       "      <td>2022-08-11</td>\n",
       "      <td>43102.68</td>\n",
       "      <td>0</td>\n",
       "      <td>0.0</td>\n",
       "    </tr>\n",
       "    <tr>\n",
       "      <th>3</th>\n",
       "      <td>img_7768372.jpg</td>\n",
       "      <td>A</td>\n",
       "      <td>33500.0</td>\n",
       "      <td>837.5</td>\n",
       "      <td>2022-08-02</td>\n",
       "      <td>8453.00</td>\n",
       "      <td>1</td>\n",
       "      <td>7699.0</td>\n",
       "    </tr>\n",
       "    <tr>\n",
       "      <th>4</th>\n",
       "      <td>img_7765274.jpg</td>\n",
       "      <td>AC</td>\n",
       "      <td>27600.0</td>\n",
       "      <td>690.0</td>\n",
       "      <td>2026-05-01</td>\n",
       "      <td>6978.00</td>\n",
       "      <td>1</td>\n",
       "      <td>8849.0</td>\n",
       "    </tr>\n",
       "  </tbody>\n",
       "</table>\n",
       "</div>"
      ],
      "text/plain": [
       "        Image_path Insurance_company  Cost_of_vehicle  Min_coverage  \\\n",
       "0  img_4513976.jpg                BQ          41500.0        1037.5   \n",
       "1  img_7764995.jpg                BQ          50700.0        1267.5   \n",
       "2   img_451308.jpg                 A          49500.0        1237.5   \n",
       "3  img_7768372.jpg                 A          33500.0         837.5   \n",
       "4  img_7765274.jpg                AC          27600.0         690.0   \n",
       "\n",
       "  Expiry_date  Max_coverage  Condition  Amount  \n",
       "0  2026-12-03      36142.68          0     0.0  \n",
       "1  2025-07-10      12753.00          1  6194.0  \n",
       "2  2022-08-11      43102.68          0     0.0  \n",
       "3  2022-08-02       8453.00          1  7699.0  \n",
       "4  2026-05-01       6978.00          1  8849.0  "
      ]
     },
     "execution_count": 8,
     "metadata": {},
     "output_type": "execute_result"
    }
   ],
   "source": [
    "train_copy.head()"
   ]
  },
  {
   "cell_type": "code",
   "execution_count": null,
   "metadata": {},
   "outputs": [],
   "source": []
  }
 ],
 "metadata": {
  "kernelspec": {
   "display_name": "Python 3",
   "language": "python",
   "name": "python3"
  },
  "language_info": {
   "codemirror_mode": {
    "name": "ipython",
    "version": 3
   },
   "file_extension": ".py",
   "mimetype": "text/x-python",
   "name": "python",
   "nbconvert_exporter": "python",
   "pygments_lexer": "ipython3",
   "version": "3.8.8"
  }
 },
 "nbformat": 4,
 "nbformat_minor": 4
}
