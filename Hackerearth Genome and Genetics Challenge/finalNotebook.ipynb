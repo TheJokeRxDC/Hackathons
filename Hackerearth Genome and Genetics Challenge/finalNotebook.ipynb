{
 "cells": [
  {
   "cell_type": "markdown",
   "id": "c119b1a0",
   "metadata": {},
   "source": [
    "# Hackerearth Genome And Genetics Challenge\n",
    "<hr>\n",
    "\n",
    "<p align=\"center\">\n",
    "    <img src=\"https://d2908q01vomqb2.cloudfront.net/cb4e5208b4cd87268b208e49452ed6e89a68e0b8/2021/07/16/HackerEarthFeatureImage.png\" width=\"500\" height=\"600\">\n",
    "</p>\n",
    "\n",
    "A genetic disorder is a health condition that is usually caused by mutations in DNA or changes in the number or overall structure of chromosomes. Several types of commonly-known diseases are related to hereditary gene mutations. Genetic testing aids patients in making important decisions in the prevention, treatment, or early detection of hereditary disorders.\n",
    "\n",
    "With increasing population, studies have shown that there has been an exponential increase in the number of genetic disorders. Low awareness of the importance of genetic testing contributes to the increase in the incidence of hereditary disorders. Many children succumb to these disorders and it is extremely important that genetic testing be done during pregnancy.\n",
    "\n",
    "## Evaluation Metrics\n",
    "\n",
    "- **Genetic Disorder** <br>\n",
    "<code>score1 = max(0, 100*metrics.f1_score(actual[\"Genetic Disorder\"], predicted[\"Genetic Disorder\"], average=\"macro\"))</code>\n",
    "\n",
    "- **Disorder Subclass** <br>\n",
    "<code>score2 = max(0, 100*metrics.f1_score(actual[\"Disorder Subclass\"], predicted[\"Disorder Subclass\"], average=\"macro\"))</code>\n",
    "\n",
    "- **Final score** <br>\n",
    "<code>score = (score1/2)+(score2/2)</code>\n",
    "\n",
    "## Challenge\n",
    "\n",
    "**Link** : https://www.hackerearth.com/challenges/competitive/hackerearth-machine-learning-challenge-genetic-testing/machine-learning/predict-the-genetic-disorders-9-76826a5e/"
   ]
  },
  {
   "cell_type": "markdown",
   "id": "da9390af",
   "metadata": {},
   "source": [
    "## 1. Environment Setup"
   ]
  },
  {
   "cell_type": "code",
   "execution_count": 1,
   "id": "9067c900",
   "metadata": {},
   "outputs": [],
   "source": [
    "# Data manipulation packages\n",
    "import pandas as pd\n",
    "import numpy as np\n",
    "\n",
    "# Visualization packages\n",
    "import matplotlib.pyplot as plt\n",
    "import seaborn as sns\n",
    "%matplotlib inline\n",
    "\n",
    "# Scikit-learn packages\n",
    "from sklearn.preprocessing import LabelEncoder, OrdinalEncoder, MinMaxScaler\n",
    "from sklearn.model_selection import cross_val_score\n",
    "\n",
    "# Machine Learning packages\n",
    "from sklearn.linear_model import LogisticRegression\n",
    "from sklearn.neighbors import KNeighborsClassifier\n",
    "from sklearn.ensemble import RandomForestClassifier, AdaBoostClassifier, GradientBoostingClassifier\n",
    "from sklearn.tree import DecisionTreeClassifier\n",
    "from xgboost import XGBClassifier\n",
    "from lightgbm import LGBMClassifier\n",
    "\n",
    "# Importing SMOTE for oversampling\n",
    "from imblearn.over_sampling import SMOTE"
   ]
  },
  {
   "cell_type": "markdown",
   "id": "431237da",
   "metadata": {},
   "source": [
    "## 2. Dataset"
   ]
  },
  {
   "cell_type": "code",
   "execution_count": 2,
   "id": "9549caa8",
   "metadata": {},
   "outputs": [],
   "source": [
    "# Importing training dataset\n",
    "df = pd.read_csv('data/train.csv')\n",
    "\n",
    "# Importing test dataset\n",
    "test_df = pd.read_csv('data/test.csv')\n",
    "\n",
    "# Replacing -99 with null\n",
    "df = df.replace('-99', np.nan)\n",
    "df = df.replace(-99, np.nan)\n",
    "\n",
    "test_df = test_df.replace('-99', np.nan)\n",
    "test_df = test_df.replace(-99, np.nan)\n",
    "\n",
    "# Excluding targets with null values\n",
    "df = df[df['Genetic Disorder'].notnull()]\n",
    "df = df[df['Disorder Subclass'].notnull()]\n",
    "\n",
    "test_id = test_df['Patient Id']"
   ]
  },
  {
   "cell_type": "code",
   "execution_count": 3,
   "id": "1865342e",
   "metadata": {},
   "outputs": [
    {
     "data": {
      "text/html": [
       "<div>\n",
       "<style scoped>\n",
       "    .dataframe tbody tr th:only-of-type {\n",
       "        vertical-align: middle;\n",
       "    }\n",
       "\n",
       "    .dataframe tbody tr th {\n",
       "        vertical-align: top;\n",
       "    }\n",
       "\n",
       "    .dataframe thead th {\n",
       "        text-align: right;\n",
       "    }\n",
       "</style>\n",
       "<table border=\"1\" class=\"dataframe\">\n",
       "  <thead>\n",
       "    <tr style=\"text-align: right;\">\n",
       "      <th></th>\n",
       "      <th>Patient Id</th>\n",
       "      <th>Patient Age</th>\n",
       "      <th>Genes in mother's side</th>\n",
       "      <th>Inherited from father</th>\n",
       "      <th>Maternal gene</th>\n",
       "      <th>Paternal gene</th>\n",
       "      <th>Blood cell count (mcL)</th>\n",
       "      <th>Patient First Name</th>\n",
       "      <th>Family Name</th>\n",
       "      <th>Father's name</th>\n",
       "      <th>...</th>\n",
       "      <th>Birth defects</th>\n",
       "      <th>White Blood cell count (thousand per microliter)</th>\n",
       "      <th>Blood test result</th>\n",
       "      <th>Symptom 1</th>\n",
       "      <th>Symptom 2</th>\n",
       "      <th>Symptom 3</th>\n",
       "      <th>Symptom 4</th>\n",
       "      <th>Symptom 5</th>\n",
       "      <th>Genetic Disorder</th>\n",
       "      <th>Disorder Subclass</th>\n",
       "    </tr>\n",
       "  </thead>\n",
       "  <tbody>\n",
       "    <tr>\n",
       "      <th>0</th>\n",
       "      <td>PID0x6418</td>\n",
       "      <td>2.0</td>\n",
       "      <td>Yes</td>\n",
       "      <td>No</td>\n",
       "      <td>Yes</td>\n",
       "      <td>No</td>\n",
       "      <td>4.760603</td>\n",
       "      <td>Richard</td>\n",
       "      <td>NaN</td>\n",
       "      <td>Larre</td>\n",
       "      <td>...</td>\n",
       "      <td>NaN</td>\n",
       "      <td>9.857562</td>\n",
       "      <td>NaN</td>\n",
       "      <td>1.0</td>\n",
       "      <td>1.0</td>\n",
       "      <td>1.0</td>\n",
       "      <td>1.0</td>\n",
       "      <td>1.0</td>\n",
       "      <td>Mitochondrial genetic inheritance disorders</td>\n",
       "      <td>Leber's hereditary optic neuropathy</td>\n",
       "    </tr>\n",
       "    <tr>\n",
       "      <th>2</th>\n",
       "      <td>PID0x4a82</td>\n",
       "      <td>6.0</td>\n",
       "      <td>Yes</td>\n",
       "      <td>No</td>\n",
       "      <td>No</td>\n",
       "      <td>No</td>\n",
       "      <td>4.893297</td>\n",
       "      <td>Kimberly</td>\n",
       "      <td>NaN</td>\n",
       "      <td>Nashon</td>\n",
       "      <td>...</td>\n",
       "      <td>Singular</td>\n",
       "      <td>NaN</td>\n",
       "      <td>normal</td>\n",
       "      <td>0.0</td>\n",
       "      <td>1.0</td>\n",
       "      <td>1.0</td>\n",
       "      <td>1.0</td>\n",
       "      <td>1.0</td>\n",
       "      <td>Multifactorial genetic inheritance disorders</td>\n",
       "      <td>Diabetes</td>\n",
       "    </tr>\n",
       "    <tr>\n",
       "      <th>3</th>\n",
       "      <td>PID0x4ac8</td>\n",
       "      <td>12.0</td>\n",
       "      <td>Yes</td>\n",
       "      <td>No</td>\n",
       "      <td>Yes</td>\n",
       "      <td>No</td>\n",
       "      <td>4.705280</td>\n",
       "      <td>Jeffery</td>\n",
       "      <td>Hoelscher</td>\n",
       "      <td>Aayaan</td>\n",
       "      <td>...</td>\n",
       "      <td>Singular</td>\n",
       "      <td>7.919321</td>\n",
       "      <td>inconclusive</td>\n",
       "      <td>0.0</td>\n",
       "      <td>0.0</td>\n",
       "      <td>1.0</td>\n",
       "      <td>0.0</td>\n",
       "      <td>0.0</td>\n",
       "      <td>Mitochondrial genetic inheritance disorders</td>\n",
       "      <td>Leigh syndrome</td>\n",
       "    </tr>\n",
       "    <tr>\n",
       "      <th>4</th>\n",
       "      <td>PID0x1bf7</td>\n",
       "      <td>11.0</td>\n",
       "      <td>Yes</td>\n",
       "      <td>No</td>\n",
       "      <td>NaN</td>\n",
       "      <td>Yes</td>\n",
       "      <td>4.720703</td>\n",
       "      <td>Johanna</td>\n",
       "      <td>Stutzman</td>\n",
       "      <td>Suave</td>\n",
       "      <td>...</td>\n",
       "      <td>Multiple</td>\n",
       "      <td>4.098210</td>\n",
       "      <td>NaN</td>\n",
       "      <td>0.0</td>\n",
       "      <td>0.0</td>\n",
       "      <td>0.0</td>\n",
       "      <td>0.0</td>\n",
       "      <td>NaN</td>\n",
       "      <td>Multifactorial genetic inheritance disorders</td>\n",
       "      <td>Cancer</td>\n",
       "    </tr>\n",
       "    <tr>\n",
       "      <th>5</th>\n",
       "      <td>PID0x44fe</td>\n",
       "      <td>14.0</td>\n",
       "      <td>Yes</td>\n",
       "      <td>No</td>\n",
       "      <td>Yes</td>\n",
       "      <td>No</td>\n",
       "      <td>5.103188</td>\n",
       "      <td>Richard</td>\n",
       "      <td>NaN</td>\n",
       "      <td>Coleston</td>\n",
       "      <td>...</td>\n",
       "      <td>Multiple</td>\n",
       "      <td>10.272230</td>\n",
       "      <td>normal</td>\n",
       "      <td>1.0</td>\n",
       "      <td>0.0</td>\n",
       "      <td>0.0</td>\n",
       "      <td>1.0</td>\n",
       "      <td>0.0</td>\n",
       "      <td>Single-gene inheritance diseases</td>\n",
       "      <td>Cystic fibrosis</td>\n",
       "    </tr>\n",
       "  </tbody>\n",
       "</table>\n",
       "<p>5 rows × 45 columns</p>\n",
       "</div>"
      ],
      "text/plain": [
       "  Patient Id  Patient Age Genes in mother's side Inherited from father  \\\n",
       "0  PID0x6418          2.0                    Yes                    No   \n",
       "2  PID0x4a82          6.0                    Yes                    No   \n",
       "3  PID0x4ac8         12.0                    Yes                    No   \n",
       "4  PID0x1bf7         11.0                    Yes                    No   \n",
       "5  PID0x44fe         14.0                    Yes                    No   \n",
       "\n",
       "  Maternal gene Paternal gene  Blood cell count (mcL) Patient First Name  \\\n",
       "0           Yes            No                4.760603            Richard   \n",
       "2            No            No                4.893297           Kimberly   \n",
       "3           Yes            No                4.705280            Jeffery   \n",
       "4           NaN           Yes                4.720703            Johanna   \n",
       "5           Yes            No                5.103188            Richard   \n",
       "\n",
       "  Family Name Father's name  ...  Birth defects  \\\n",
       "0         NaN         Larre  ...            NaN   \n",
       "2         NaN        Nashon  ...       Singular   \n",
       "3   Hoelscher        Aayaan  ...       Singular   \n",
       "4    Stutzman         Suave  ...       Multiple   \n",
       "5         NaN      Coleston  ...       Multiple   \n",
       "\n",
       "   White Blood cell count (thousand per microliter) Blood test result  \\\n",
       "0                                          9.857562               NaN   \n",
       "2                                               NaN            normal   \n",
       "3                                          7.919321      inconclusive   \n",
       "4                                          4.098210               NaN   \n",
       "5                                         10.272230            normal   \n",
       "\n",
       "  Symptom 1 Symptom 2 Symptom 3 Symptom 4  Symptom 5  \\\n",
       "0       1.0       1.0       1.0       1.0        1.0   \n",
       "2       0.0       1.0       1.0       1.0        1.0   \n",
       "3       0.0       0.0       1.0       0.0        0.0   \n",
       "4       0.0       0.0       0.0       0.0        NaN   \n",
       "5       1.0       0.0       0.0       1.0        0.0   \n",
       "\n",
       "                               Genetic Disorder  \\\n",
       "0   Mitochondrial genetic inheritance disorders   \n",
       "2  Multifactorial genetic inheritance disorders   \n",
       "3   Mitochondrial genetic inheritance disorders   \n",
       "4  Multifactorial genetic inheritance disorders   \n",
       "5              Single-gene inheritance diseases   \n",
       "\n",
       "                     Disorder Subclass  \n",
       "0  Leber's hereditary optic neuropathy  \n",
       "2                             Diabetes  \n",
       "3                       Leigh syndrome  \n",
       "4                               Cancer  \n",
       "5                      Cystic fibrosis  \n",
       "\n",
       "[5 rows x 45 columns]"
      ]
     },
     "execution_count": 3,
     "metadata": {},
     "output_type": "execute_result"
    }
   ],
   "source": [
    "df.head()"
   ]
  },
  {
   "cell_type": "code",
   "execution_count": 4,
   "id": "db4c45cf",
   "metadata": {},
   "outputs": [
    {
     "data": {
      "text/html": [
       "<div>\n",
       "<style scoped>\n",
       "    .dataframe tbody tr th:only-of-type {\n",
       "        vertical-align: middle;\n",
       "    }\n",
       "\n",
       "    .dataframe tbody tr th {\n",
       "        vertical-align: top;\n",
       "    }\n",
       "\n",
       "    .dataframe thead th {\n",
       "        text-align: right;\n",
       "    }\n",
       "</style>\n",
       "<table border=\"1\" class=\"dataframe\">\n",
       "  <thead>\n",
       "    <tr style=\"text-align: right;\">\n",
       "      <th></th>\n",
       "      <th>Patient Id</th>\n",
       "      <th>Patient Age</th>\n",
       "      <th>Genes in mother's side</th>\n",
       "      <th>Inherited from father</th>\n",
       "      <th>Maternal gene</th>\n",
       "      <th>Paternal gene</th>\n",
       "      <th>Blood cell count (mcL)</th>\n",
       "      <th>Patient First Name</th>\n",
       "      <th>Family Name</th>\n",
       "      <th>Father's name</th>\n",
       "      <th>...</th>\n",
       "      <th>History of anomalies in previous pregnancies</th>\n",
       "      <th>No. of previous abortion</th>\n",
       "      <th>Birth defects</th>\n",
       "      <th>White Blood cell count (thousand per microliter)</th>\n",
       "      <th>Blood test result</th>\n",
       "      <th>Symptom 1</th>\n",
       "      <th>Symptom 2</th>\n",
       "      <th>Symptom 3</th>\n",
       "      <th>Symptom 4</th>\n",
       "      <th>Symptom 5</th>\n",
       "    </tr>\n",
       "  </thead>\n",
       "  <tbody>\n",
       "    <tr>\n",
       "      <th>0</th>\n",
       "      <td>PID0x4175</td>\n",
       "      <td>6</td>\n",
       "      <td>No</td>\n",
       "      <td>Yes</td>\n",
       "      <td>No</td>\n",
       "      <td>No</td>\n",
       "      <td>4.981655</td>\n",
       "      <td>Charles</td>\n",
       "      <td>NaN</td>\n",
       "      <td>Kore</td>\n",
       "      <td>...</td>\n",
       "      <td>NaN</td>\n",
       "      <td>2.0</td>\n",
       "      <td>Multiple</td>\n",
       "      <td>NaN</td>\n",
       "      <td>slightly abnormal</td>\n",
       "      <td>True</td>\n",
       "      <td>True</td>\n",
       "      <td>True</td>\n",
       "      <td>True</td>\n",
       "      <td>True</td>\n",
       "    </tr>\n",
       "    <tr>\n",
       "      <th>1</th>\n",
       "      <td>PID0x21f5</td>\n",
       "      <td>10</td>\n",
       "      <td>Yes</td>\n",
       "      <td>No</td>\n",
       "      <td>NaN</td>\n",
       "      <td>Yes</td>\n",
       "      <td>5.118890</td>\n",
       "      <td>Catherine</td>\n",
       "      <td>NaN</td>\n",
       "      <td>Homero</td>\n",
       "      <td>...</td>\n",
       "      <td>Yes</td>\n",
       "      <td>NaN</td>\n",
       "      <td>Multiple</td>\n",
       "      <td>8.179584</td>\n",
       "      <td>normal</td>\n",
       "      <td>False</td>\n",
       "      <td>False</td>\n",
       "      <td>False</td>\n",
       "      <td>True</td>\n",
       "      <td>False</td>\n",
       "    </tr>\n",
       "    <tr>\n",
       "      <th>2</th>\n",
       "      <td>PID0x49b8</td>\n",
       "      <td>5</td>\n",
       "      <td>No</td>\n",
       "      <td>NaN</td>\n",
       "      <td>No</td>\n",
       "      <td>No</td>\n",
       "      <td>4.876204</td>\n",
       "      <td>James</td>\n",
       "      <td>NaN</td>\n",
       "      <td>Danield</td>\n",
       "      <td>...</td>\n",
       "      <td>No</td>\n",
       "      <td>0.0</td>\n",
       "      <td>Singular</td>\n",
       "      <td>NaN</td>\n",
       "      <td>slightly abnormal</td>\n",
       "      <td>False</td>\n",
       "      <td>False</td>\n",
       "      <td>True</td>\n",
       "      <td>True</td>\n",
       "      <td>False</td>\n",
       "    </tr>\n",
       "    <tr>\n",
       "      <th>3</th>\n",
       "      <td>PID0x2d97</td>\n",
       "      <td>13</td>\n",
       "      <td>No</td>\n",
       "      <td>Yes</td>\n",
       "      <td>Yes</td>\n",
       "      <td>No</td>\n",
       "      <td>4.687767</td>\n",
       "      <td>Brian</td>\n",
       "      <td>NaN</td>\n",
       "      <td>Orville</td>\n",
       "      <td>...</td>\n",
       "      <td>Yes</td>\n",
       "      <td>NaN</td>\n",
       "      <td>Singular</td>\n",
       "      <td>6.884071</td>\n",
       "      <td>normal</td>\n",
       "      <td>True</td>\n",
       "      <td>False</td>\n",
       "      <td>True</td>\n",
       "      <td>False</td>\n",
       "      <td>True</td>\n",
       "    </tr>\n",
       "    <tr>\n",
       "      <th>4</th>\n",
       "      <td>PID0x58da</td>\n",
       "      <td>5</td>\n",
       "      <td>No</td>\n",
       "      <td>NaN</td>\n",
       "      <td>NaN</td>\n",
       "      <td>Yes</td>\n",
       "      <td>5.152362</td>\n",
       "      <td>Gary</td>\n",
       "      <td>NaN</td>\n",
       "      <td>Issiah</td>\n",
       "      <td>...</td>\n",
       "      <td>No</td>\n",
       "      <td>NaN</td>\n",
       "      <td>Multiple</td>\n",
       "      <td>6.195178</td>\n",
       "      <td>normal</td>\n",
       "      <td>True</td>\n",
       "      <td>True</td>\n",
       "      <td>True</td>\n",
       "      <td>True</td>\n",
       "      <td>False</td>\n",
       "    </tr>\n",
       "  </tbody>\n",
       "</table>\n",
       "<p>5 rows × 43 columns</p>\n",
       "</div>"
      ],
      "text/plain": [
       "  Patient Id  Patient Age Genes in mother's side Inherited from father  \\\n",
       "0  PID0x4175            6                     No                   Yes   \n",
       "1  PID0x21f5           10                    Yes                    No   \n",
       "2  PID0x49b8            5                     No                   NaN   \n",
       "3  PID0x2d97           13                     No                   Yes   \n",
       "4  PID0x58da            5                     No                   NaN   \n",
       "\n",
       "  Maternal gene Paternal gene  Blood cell count (mcL) Patient First Name  \\\n",
       "0            No            No                4.981655            Charles   \n",
       "1           NaN           Yes                5.118890          Catherine   \n",
       "2            No            No                4.876204              James   \n",
       "3           Yes            No                4.687767              Brian   \n",
       "4           NaN           Yes                5.152362               Gary   \n",
       "\n",
       "  Family Name Father's name  ...  \\\n",
       "0         NaN          Kore  ...   \n",
       "1         NaN        Homero  ...   \n",
       "2         NaN       Danield  ...   \n",
       "3         NaN       Orville  ...   \n",
       "4         NaN        Issiah  ...   \n",
       "\n",
       "   History of anomalies in previous pregnancies  No. of previous abortion  \\\n",
       "0                                           NaN                       2.0   \n",
       "1                                           Yes                       NaN   \n",
       "2                                            No                       0.0   \n",
       "3                                           Yes                       NaN   \n",
       "4                                            No                       NaN   \n",
       "\n",
       "  Birth defects White Blood cell count (thousand per microliter)  \\\n",
       "0      Multiple                                              NaN   \n",
       "1      Multiple                                         8.179584   \n",
       "2      Singular                                              NaN   \n",
       "3      Singular                                         6.884071   \n",
       "4      Multiple                                         6.195178   \n",
       "\n",
       "   Blood test result Symptom 1 Symptom 2  Symptom 3  Symptom 4  Symptom 5  \n",
       "0  slightly abnormal      True      True       True       True       True  \n",
       "1             normal     False     False      False       True      False  \n",
       "2  slightly abnormal     False     False       True       True      False  \n",
       "3             normal      True     False       True      False       True  \n",
       "4             normal      True      True       True       True      False  \n",
       "\n",
       "[5 rows x 43 columns]"
      ]
     },
     "execution_count": 4,
     "metadata": {},
     "output_type": "execute_result"
    }
   ],
   "source": [
    "test_df.head()"
   ]
  },
  {
   "cell_type": "markdown",
   "id": "2b43b685",
   "metadata": {},
   "source": [
    "## 3. Exploratory Data Analysis"
   ]
  },
  {
   "cell_type": "code",
   "execution_count": 5,
   "id": "d8770759",
   "metadata": {},
   "outputs": [
    {
     "name": "stdout",
     "output_type": "stream",
     "text": [
      "Training dataset shape:  (18047, 45)\n",
      "Test dataset shape:  (9465, 43)\n"
     ]
    }
   ],
   "source": [
    "# Checking shape of training and test dataset\n",
    "print(\"Training dataset shape: \", df.shape)\n",
    "print(\"Test dataset shape: \", test_df.shape)"
   ]
  },
  {
   "cell_type": "code",
   "execution_count": 6,
   "id": "66cb0d34",
   "metadata": {},
   "outputs": [
    {
     "data": {
      "text/plain": [
       "Patient Id                                             0\n",
       "Patient Age                                         1060\n",
       "Genes in mother's side                                 0\n",
       "Inherited from father                                220\n",
       "Maternal gene                                       2071\n",
       "Paternal gene                                          0\n",
       "Blood cell count (mcL)                                 0\n",
       "Patient First Name                                     0\n",
       "Family Name                                         7176\n",
       "Father's name                                          0\n",
       "Mother's age                                        4457\n",
       "Father's age                                        4418\n",
       "Institute Name                                      3783\n",
       "Location of Institute                                  0\n",
       "Status                                                 0\n",
       "Respiratory Rate (breaths/min)                      1570\n",
       "Heart Rate (rates/min                               1528\n",
       "Test 1                                              1573\n",
       "Test 2                                              1588\n",
       "Test 3                                              1569\n",
       "Test 4                                              1574\n",
       "Test 5                                              1596\n",
       "Parental consent                                    1579\n",
       "Follow-up                                           1575\n",
       "Gender                                              1573\n",
       "Birth asphyxia                                      1552\n",
       "Autopsy shows birth defect (if applicable)           757\n",
       "Place of birth                                      1591\n",
       "Folic acid details (peri-conceptional)              1564\n",
       "H/O serious maternal illness                        1552\n",
       "H/O radiation exposure (x-ray)                      1584\n",
       "H/O substance abuse                                 1632\n",
       "Assisted conception IVF/ART                         1590\n",
       "History of anomalies in previous pregnancies        1614\n",
       "No. of previous abortion                            1546\n",
       "Birth defects                                       1565\n",
       "White Blood cell count (thousand per microliter)    1607\n",
       "Blood test result                                   1564\n",
       "Symptom 1                                           1578\n",
       "Symptom 2                                           1646\n",
       "Symptom 3                                           1530\n",
       "Symptom 4                                           1566\n",
       "Symptom 5                                           1613\n",
       "Genetic Disorder                                       0\n",
       "Disorder Subclass                                      0\n",
       "dtype: int64"
      ]
     },
     "execution_count": 6,
     "metadata": {},
     "output_type": "execute_result"
    }
   ],
   "source": [
    "# Checking for null values in training dataset\n",
    "df.isnull().sum()"
   ]
  },
  {
   "cell_type": "code",
   "execution_count": 7,
   "id": "8b06c62c",
   "metadata": {},
   "outputs": [
    {
     "data": {
      "text/plain": [
       "Patient Id                                             0\n",
       "Patient Age                                            0\n",
       "Genes in mother's side                                 0\n",
       "Inherited from father                                551\n",
       "Maternal gene                                       3723\n",
       "Paternal gene                                          0\n",
       "Blood cell count (mcL)                                 0\n",
       "Patient First Name                                     0\n",
       "Family Name                                         9317\n",
       "Father's name                                          0\n",
       "Mother's age                                           0\n",
       "Father's age                                           0\n",
       "Institute Name                                      5004\n",
       "Location of Institute                                  0\n",
       "Status                                                 0\n",
       "Respiratory Rate (breaths/min)                      4991\n",
       "Heart Rate (rates/min                               4974\n",
       "Test 1                                              2120\n",
       "Test 2                                              2081\n",
       "Test 3                                              2099\n",
       "Test 4                                              2082\n",
       "Test 5                                              2091\n",
       "Parental consent                                    2095\n",
       "Follow-up                                           2090\n",
       "Gender                                              2102\n",
       "Birth asphyxia                                      2079\n",
       "Autopsy shows birth defect (if applicable)          1063\n",
       "Place of birth                                      2089\n",
       "Folic acid details (peri-conceptional)              2092\n",
       "H/O serious maternal illness                        2080\n",
       "H/O radiation exposure (x-ray)                      2082\n",
       "H/O substance abuse                                 2095\n",
       "Assisted conception IVF/ART                         2085\n",
       "History of anomalies in previous pregnancies        2097\n",
       "No. of previous abortion                            2096\n",
       "Birth defects                                       2095\n",
       "White Blood cell count (thousand per microliter)    2102\n",
       "Blood test result                                   2080\n",
       "Symptom 1                                              0\n",
       "Symptom 2                                              0\n",
       "Symptom 3                                              0\n",
       "Symptom 4                                              0\n",
       "Symptom 5                                              0\n",
       "dtype: int64"
      ]
     },
     "execution_count": 7,
     "metadata": {},
     "output_type": "execute_result"
    }
   ],
   "source": [
    "# Checking for null values in test dataset\n",
    "test_df.isnull().sum()"
   ]
  },
  {
   "cell_type": "code",
   "execution_count": 8,
   "id": "cbc6a8ef",
   "metadata": {},
   "outputs": [
    {
     "data": {
      "text/plain": [
       "Patient Id                                           object\n",
       "Patient Age                                         float64\n",
       "Genes in mother's side                               object\n",
       "Inherited from father                                object\n",
       "Maternal gene                                        object\n",
       "Paternal gene                                        object\n",
       "Blood cell count (mcL)                              float64\n",
       "Patient First Name                                   object\n",
       "Family Name                                          object\n",
       "Father's name                                        object\n",
       "Mother's age                                        float64\n",
       "Father's age                                        float64\n",
       "Institute Name                                       object\n",
       "Location of Institute                                object\n",
       "Status                                               object\n",
       "Respiratory Rate (breaths/min)                       object\n",
       "Heart Rate (rates/min                                object\n",
       "Test 1                                              float64\n",
       "Test 2                                              float64\n",
       "Test 3                                              float64\n",
       "Test 4                                              float64\n",
       "Test 5                                              float64\n",
       "Parental consent                                     object\n",
       "Follow-up                                            object\n",
       "Gender                                               object\n",
       "Birth asphyxia                                       object\n",
       "Autopsy shows birth defect (if applicable)           object\n",
       "Place of birth                                       object\n",
       "Folic acid details (peri-conceptional)               object\n",
       "H/O serious maternal illness                         object\n",
       "H/O radiation exposure (x-ray)                       object\n",
       "H/O substance abuse                                  object\n",
       "Assisted conception IVF/ART                          object\n",
       "History of anomalies in previous pregnancies         object\n",
       "No. of previous abortion                            float64\n",
       "Birth defects                                        object\n",
       "White Blood cell count (thousand per microliter)    float64\n",
       "Blood test result                                    object\n",
       "Symptom 1                                           float64\n",
       "Symptom 2                                           float64\n",
       "Symptom 3                                           float64\n",
       "Symptom 4                                           float64\n",
       "Symptom 5                                           float64\n",
       "Genetic Disorder                                     object\n",
       "Disorder Subclass                                    object\n",
       "dtype: object"
      ]
     },
     "execution_count": 8,
     "metadata": {},
     "output_type": "execute_result"
    }
   ],
   "source": [
    "# Checking training dataset dtypes\n",
    "df.dtypes"
   ]
  },
  {
   "cell_type": "code",
   "execution_count": 9,
   "id": "cb55caa1",
   "metadata": {},
   "outputs": [
    {
     "data": {
      "text/plain": [
       "Patient Id                                           object\n",
       "Patient Age                                           int64\n",
       "Genes in mother's side                               object\n",
       "Inherited from father                                object\n",
       "Maternal gene                                        object\n",
       "Paternal gene                                        object\n",
       "Blood cell count (mcL)                              float64\n",
       "Patient First Name                                   object\n",
       "Family Name                                          object\n",
       "Father's name                                        object\n",
       "Mother's age                                          int64\n",
       "Father's age                                          int64\n",
       "Institute Name                                       object\n",
       "Location of Institute                                object\n",
       "Status                                               object\n",
       "Respiratory Rate (breaths/min)                       object\n",
       "Heart Rate (rates/min                                object\n",
       "Test 1                                              float64\n",
       "Test 2                                              float64\n",
       "Test 3                                              float64\n",
       "Test 4                                              float64\n",
       "Test 5                                              float64\n",
       "Parental consent                                     object\n",
       "Follow-up                                            object\n",
       "Gender                                               object\n",
       "Birth asphyxia                                       object\n",
       "Autopsy shows birth defect (if applicable)           object\n",
       "Place of birth                                       object\n",
       "Folic acid details (peri-conceptional)               object\n",
       "H/O serious maternal illness                         object\n",
       "H/O radiation exposure (x-ray)                       object\n",
       "H/O substance abuse                                  object\n",
       "Assisted conception IVF/ART                          object\n",
       "History of anomalies in previous pregnancies         object\n",
       "No. of previous abortion                            float64\n",
       "Birth defects                                        object\n",
       "White Blood cell count (thousand per microliter)    float64\n",
       "Blood test result                                    object\n",
       "Symptom 1                                              bool\n",
       "Symptom 2                                              bool\n",
       "Symptom 3                                              bool\n",
       "Symptom 4                                              bool\n",
       "Symptom 5                                              bool\n",
       "dtype: object"
      ]
     },
     "execution_count": 9,
     "metadata": {},
     "output_type": "execute_result"
    }
   ],
   "source": [
    "# Checking test dataset dtypes\n",
    "test_df.dtypes"
   ]
  },
  {
   "cell_type": "code",
   "execution_count": 10,
   "id": "ccb549ae",
   "metadata": {},
   "outputs": [
    {
     "data": {
      "text/plain": [
       "Yes    10743\n",
       "No      7304\n",
       "Name: Genes in mother's side, dtype: int64"
      ]
     },
     "execution_count": 10,
     "metadata": {},
     "output_type": "execute_result"
    }
   ],
   "source": [
    "df['Genes in mother\\'s side'].value_counts()"
   ]
  },
  {
   "cell_type": "code",
   "execution_count": 11,
   "id": "db087971",
   "metadata": {},
   "outputs": [
    {
     "data": {
      "text/plain": [
       "No     10773\n",
       "Yes     7054\n",
       "Name: Inherited from father, dtype: int64"
      ]
     },
     "execution_count": 11,
     "metadata": {},
     "output_type": "execute_result"
    }
   ],
   "source": [
    "df['Inherited from father'].value_counts()"
   ]
  },
  {
   "cell_type": "code",
   "execution_count": 12,
   "id": "d6e44eb3",
   "metadata": {},
   "outputs": [
    {
     "data": {
      "text/plain": [
       "Yes    8803\n",
       "No     7173\n",
       "Name: Maternal gene, dtype: int64"
      ]
     },
     "execution_count": 12,
     "metadata": {},
     "output_type": "execute_result"
    }
   ],
   "source": [
    "df['Maternal gene'].value_counts()"
   ]
  },
  {
   "cell_type": "code",
   "execution_count": 13,
   "id": "10af5072",
   "metadata": {},
   "outputs": [
    {
     "data": {
      "text/plain": [
       "No     10239\n",
       "Yes     7808\n",
       "Name: Paternal gene, dtype: int64"
      ]
     },
     "execution_count": 13,
     "metadata": {},
     "output_type": "execute_result"
    }
   ],
   "source": [
    "df['Paternal gene'].value_counts()"
   ]
  },
  {
   "cell_type": "code",
   "execution_count": 14,
   "id": "7f003e73",
   "metadata": {},
   "outputs": [
    {
     "data": {
      "text/plain": [
       "Alive       9061\n",
       "Deceased    8986\n",
       "Name: Status, dtype: int64"
      ]
     },
     "execution_count": 14,
     "metadata": {},
     "output_type": "execute_result"
    }
   ],
   "source": [
    "df['Status'].value_counts()"
   ]
  },
  {
   "cell_type": "code",
   "execution_count": 15,
   "id": "be88c934",
   "metadata": {},
   "outputs": [
    {
     "data": {
      "text/plain": [
       "Normal (30-60)    8281\n",
       "Tachypnea         8196\n",
       "Name: Respiratory Rate (breaths/min), dtype: int64"
      ]
     },
     "execution_count": 15,
     "metadata": {},
     "output_type": "execute_result"
    }
   ],
   "source": [
    "df['Respiratory Rate (breaths/min)'].value_counts()"
   ]
  },
  {
   "cell_type": "code",
   "execution_count": 16,
   "id": "904b68f1",
   "metadata": {},
   "outputs": [
    {
     "data": {
      "text/plain": [
       "Normal         8396\n",
       "Tachycardia    8123\n",
       "Name: Heart Rate (rates/min, dtype: int64"
      ]
     },
     "execution_count": 16,
     "metadata": {},
     "output_type": "execute_result"
    }
   ],
   "source": [
    "df['Heart Rate (rates/min'].value_counts()"
   ]
  },
  {
   "cell_type": "code",
   "execution_count": 17,
   "id": "a41d034f",
   "metadata": {},
   "outputs": [
    {
     "data": {
      "text/plain": [
       "0.0    16474\n",
       "Name: Test 1, dtype: int64"
      ]
     },
     "execution_count": 17,
     "metadata": {},
     "output_type": "execute_result"
    }
   ],
   "source": [
    "df['Test 1'].value_counts()"
   ]
  },
  {
   "cell_type": "code",
   "execution_count": 18,
   "id": "070a013b",
   "metadata": {},
   "outputs": [
    {
     "data": {
      "text/plain": [
       "0.0    16459\n",
       "Name: Test 2, dtype: int64"
      ]
     },
     "execution_count": 18,
     "metadata": {},
     "output_type": "execute_result"
    }
   ],
   "source": [
    "df['Test 2'].value_counts()"
   ]
  },
  {
   "cell_type": "code",
   "execution_count": 19,
   "id": "1aa4f28c",
   "metadata": {},
   "outputs": [
    {
     "data": {
      "text/plain": [
       "0.0    16478\n",
       "Name: Test 3, dtype: int64"
      ]
     },
     "execution_count": 19,
     "metadata": {},
     "output_type": "execute_result"
    }
   ],
   "source": [
    "df['Test 3'].value_counts()"
   ]
  },
  {
   "cell_type": "code",
   "execution_count": 20,
   "id": "b425e68a",
   "metadata": {},
   "outputs": [
    {
     "data": {
      "text/plain": [
       "1.0    16473\n",
       "Name: Test 4, dtype: int64"
      ]
     },
     "execution_count": 20,
     "metadata": {},
     "output_type": "execute_result"
    }
   ],
   "source": [
    "df['Test 4'].value_counts()"
   ]
  },
  {
   "cell_type": "code",
   "execution_count": 21,
   "id": "cd905d2a",
   "metadata": {},
   "outputs": [
    {
     "data": {
      "text/plain": [
       "0.0    16451\n",
       "Name: Test 5, dtype: int64"
      ]
     },
     "execution_count": 21,
     "metadata": {},
     "output_type": "execute_result"
    }
   ],
   "source": [
    "df['Test 5'].value_counts()"
   ]
  },
  {
   "cell_type": "code",
   "execution_count": 22,
   "id": "c6c05aa7",
   "metadata": {},
   "outputs": [
    {
     "data": {
      "text/plain": [
       "Yes    16468\n",
       "Name: Parental consent, dtype: int64"
      ]
     },
     "execution_count": 22,
     "metadata": {},
     "output_type": "execute_result"
    }
   ],
   "source": [
    "df['Parental consent'].value_counts()"
   ]
  },
  {
   "cell_type": "code",
   "execution_count": 23,
   "id": "e0e55d2d",
   "metadata": {},
   "outputs": [
    {
     "data": {
      "text/plain": [
       "Low     8322\n",
       "High    8150\n",
       "Name: Follow-up, dtype: int64"
      ]
     },
     "execution_count": 23,
     "metadata": {},
     "output_type": "execute_result"
    }
   ],
   "source": [
    "df['Follow-up'].value_counts()"
   ]
  },
  {
   "cell_type": "code",
   "execution_count": 24,
   "id": "b4db6b15",
   "metadata": {},
   "outputs": [
    {
     "data": {
      "text/plain": [
       "Male         5519\n",
       "Ambiguous    5509\n",
       "Female       5446\n",
       "Name: Gender, dtype: int64"
      ]
     },
     "execution_count": 24,
     "metadata": {},
     "output_type": "execute_result"
    }
   ],
   "source": [
    "df['Gender'].value_counts()"
   ]
  },
  {
   "cell_type": "code",
   "execution_count": 25,
   "id": "bcbeae0a",
   "metadata": {},
   "outputs": [
    {
     "data": {
      "text/plain": [
       "Yes              4248\n",
       "Not available    4120\n",
       "No record        4112\n",
       "No               4015\n",
       "Name: Birth asphyxia, dtype: int64"
      ]
     },
     "execution_count": 25,
     "metadata": {},
     "output_type": "execute_result"
    }
   ],
   "source": [
    "df['Birth asphyxia'].value_counts()"
   ]
  },
  {
   "cell_type": "code",
   "execution_count": 26,
   "id": "ecd188fb",
   "metadata": {},
   "outputs": [
    {
     "data": {
      "text/plain": [
       "Not applicable    9061\n",
       "None              2805\n",
       "Yes               2781\n",
       "No                2643\n",
       "Name: Autopsy shows birth defect (if applicable), dtype: int64"
      ]
     },
     "execution_count": 26,
     "metadata": {},
     "output_type": "execute_result"
    }
   ],
   "source": [
    "df['Autopsy shows birth defect (if applicable)'].value_counts()"
   ]
  },
  {
   "cell_type": "code",
   "execution_count": 27,
   "id": "f50b67bf",
   "metadata": {},
   "outputs": [
    {
     "data": {
      "text/plain": [
       "Institute    8323\n",
       "Home         8133\n",
       "Name: Place of birth, dtype: int64"
      ]
     },
     "execution_count": 27,
     "metadata": {},
     "output_type": "execute_result"
    }
   ],
   "source": [
    "df['Place of birth'].value_counts()"
   ]
  },
  {
   "cell_type": "code",
   "execution_count": 28,
   "id": "6467f171",
   "metadata": {},
   "outputs": [
    {
     "data": {
      "text/plain": [
       "Yes    8336\n",
       "No     8147\n",
       "Name: Folic acid details (peri-conceptional), dtype: int64"
      ]
     },
     "execution_count": 28,
     "metadata": {},
     "output_type": "execute_result"
    }
   ],
   "source": [
    "df['Folic acid details (peri-conceptional)'].value_counts()"
   ]
  },
  {
   "cell_type": "code",
   "execution_count": 29,
   "id": "6421958d",
   "metadata": {},
   "outputs": [
    {
     "data": {
      "text/plain": [
       "No     8292\n",
       "Yes    8203\n",
       "Name: H/O serious maternal illness, dtype: int64"
      ]
     },
     "execution_count": 29,
     "metadata": {},
     "output_type": "execute_result"
    }
   ],
   "source": [
    "df['H/O serious maternal illness'].value_counts()"
   ]
  },
  {
   "cell_type": "code",
   "execution_count": 30,
   "id": "7c270455",
   "metadata": {},
   "outputs": [
    {
     "data": {
      "text/plain": [
       "Not applicable    4156\n",
       "No                4143\n",
       "Yes               4130\n",
       "-                 4034\n",
       "Name: H/O radiation exposure (x-ray), dtype: int64"
      ]
     },
     "execution_count": 30,
     "metadata": {},
     "output_type": "execute_result"
    }
   ],
   "source": [
    "df['H/O radiation exposure (x-ray)'].value_counts()"
   ]
  },
  {
   "cell_type": "code",
   "execution_count": 31,
   "id": "5ba2018a",
   "metadata": {},
   "outputs": [
    {
     "data": {
      "text/plain": [
       "No                4170\n",
       "-                 4130\n",
       "Yes               4125\n",
       "Not applicable    3990\n",
       "Name: H/O substance abuse, dtype: int64"
      ]
     },
     "execution_count": 31,
     "metadata": {},
     "output_type": "execute_result"
    }
   ],
   "source": [
    "df['H/O substance abuse'].value_counts()"
   ]
  },
  {
   "cell_type": "code",
   "execution_count": 32,
   "id": "d27d83ed",
   "metadata": {},
   "outputs": [
    {
     "data": {
      "text/plain": [
       "Yes    8274\n",
       "No     8183\n",
       "Name: Assisted conception IVF/ART, dtype: int64"
      ]
     },
     "execution_count": 32,
     "metadata": {},
     "output_type": "execute_result"
    }
   ],
   "source": [
    "df['Assisted conception IVF/ART'].value_counts()"
   ]
  },
  {
   "cell_type": "code",
   "execution_count": 33,
   "id": "b391bfa5",
   "metadata": {},
   "outputs": [
    {
     "data": {
      "text/plain": [
       "Yes    8285\n",
       "No     8148\n",
       "Name: History of anomalies in previous pregnancies, dtype: int64"
      ]
     },
     "execution_count": 33,
     "metadata": {},
     "output_type": "execute_result"
    }
   ],
   "source": [
    "df['History of anomalies in previous pregnancies'].value_counts()"
   ]
  },
  {
   "cell_type": "code",
   "execution_count": 34,
   "id": "091d0419",
   "metadata": {},
   "outputs": [
    {
     "data": {
      "text/plain": [
       "2.0    3396\n",
       "1.0    3282\n",
       "4.0    3281\n",
       "0.0    3277\n",
       "3.0    3265\n",
       "Name: No. of previous abortion, dtype: int64"
      ]
     },
     "execution_count": 34,
     "metadata": {},
     "output_type": "execute_result"
    }
   ],
   "source": [
    "df['No. of previous abortion'].value_counts()"
   ]
  },
  {
   "cell_type": "code",
   "execution_count": 35,
   "id": "8d0e1e2a",
   "metadata": {},
   "outputs": [
    {
     "data": {
      "text/plain": [
       "Multiple    8242\n",
       "Singular    8240\n",
       "Name: Birth defects, dtype: int64"
      ]
     },
     "execution_count": 35,
     "metadata": {},
     "output_type": "execute_result"
    }
   ],
   "source": [
    "df['Birth defects'].value_counts()"
   ]
  },
  {
   "cell_type": "code",
   "execution_count": 36,
   "id": "bf104395",
   "metadata": {},
   "outputs": [
    {
     "data": {
      "text/plain": [
       "slightly abnormal    4257\n",
       "inconclusive         4109\n",
       "normal               4091\n",
       "abnormal             4026\n",
       "Name: Blood test result, dtype: int64"
      ]
     },
     "execution_count": 36,
     "metadata": {},
     "output_type": "execute_result"
    }
   ],
   "source": [
    "df['Blood test result'].value_counts()"
   ]
  },
  {
   "cell_type": "code",
   "execution_count": 37,
   "id": "9fbec96c",
   "metadata": {},
   "outputs": [
    {
     "data": {
      "text/plain": [
       "1.0    9748\n",
       "0.0    6721\n",
       "Name: Symptom 1, dtype: int64"
      ]
     },
     "execution_count": 37,
     "metadata": {},
     "output_type": "execute_result"
    }
   ],
   "source": [
    "df['Symptom 1'].value_counts()"
   ]
  },
  {
   "cell_type": "code",
   "execution_count": 38,
   "id": "578f9f2d",
   "metadata": {},
   "outputs": [
    {
     "data": {
      "text/plain": [
       "1.0    9055\n",
       "0.0    7346\n",
       "Name: Symptom 2, dtype: int64"
      ]
     },
     "execution_count": 38,
     "metadata": {},
     "output_type": "execute_result"
    }
   ],
   "source": [
    "df['Symptom 2'].value_counts()"
   ]
  },
  {
   "cell_type": "code",
   "execution_count": 39,
   "id": "a560f535",
   "metadata": {},
   "outputs": [
    {
     "data": {
      "text/plain": [
       "1.0    8882\n",
       "0.0    7635\n",
       "Name: Symptom 3, dtype: int64"
      ]
     },
     "execution_count": 39,
     "metadata": {},
     "output_type": "execute_result"
    }
   ],
   "source": [
    "df['Symptom 3'].value_counts()"
   ]
  },
  {
   "cell_type": "code",
   "execution_count": 40,
   "id": "9d202a59",
   "metadata": {},
   "outputs": [
    {
     "data": {
      "text/plain": [
       "0.0    8257\n",
       "1.0    8224\n",
       "Name: Symptom 4, dtype: int64"
      ]
     },
     "execution_count": 40,
     "metadata": {},
     "output_type": "execute_result"
    }
   ],
   "source": [
    "df['Symptom 4'].value_counts()"
   ]
  },
  {
   "cell_type": "code",
   "execution_count": 41,
   "id": "c948ef9b",
   "metadata": {},
   "outputs": [
    {
     "data": {
      "text/plain": [
       "0.0    8803\n",
       "1.0    7631\n",
       "Name: Symptom 5, dtype: int64"
      ]
     },
     "execution_count": 41,
     "metadata": {},
     "output_type": "execute_result"
    }
   ],
   "source": [
    "df['Symptom 5'].value_counts()"
   ]
  },
  {
   "cell_type": "code",
   "execution_count": 42,
   "id": "5ad1d821",
   "metadata": {},
   "outputs": [
    {
     "data": {
      "text/plain": [
       "Mitochondrial genetic inheritance disorders     9241\n",
       "Single-gene inheritance diseases                6929\n",
       "Multifactorial genetic inheritance disorders    1877\n",
       "Name: Genetic Disorder, dtype: int64"
      ]
     },
     "execution_count": 42,
     "metadata": {},
     "output_type": "execute_result"
    }
   ],
   "source": [
    "df['Genetic Disorder'].value_counts()"
   ]
  },
  {
   "cell_type": "code",
   "execution_count": 43,
   "id": "420ea9c9",
   "metadata": {},
   "outputs": [
    {
     "data": {
      "text/plain": [
       "Leigh syndrome                         4683\n",
       "Mitochondrial myopathy                 3971\n",
       "Cystic fibrosis                        3145\n",
       "Tay-Sachs                              2556\n",
       "Diabetes                               1653\n",
       "Hemochromatosis                        1228\n",
       "Leber's hereditary optic neuropathy     587\n",
       "Alzheimer's                             133\n",
       "Cancer                                   91\n",
       "Name: Disorder Subclass, dtype: int64"
      ]
     },
     "execution_count": 43,
     "metadata": {},
     "output_type": "execute_result"
    }
   ],
   "source": [
    "df['Disorder Subclass'].value_counts()"
   ]
  },
  {
   "cell_type": "code",
   "execution_count": 44,
   "id": "ca27cfe2",
   "metadata": {},
   "outputs": [
    {
     "data": {
      "text/html": [
       "<div>\n",
       "<style scoped>\n",
       "    .dataframe tbody tr th:only-of-type {\n",
       "        vertical-align: middle;\n",
       "    }\n",
       "\n",
       "    .dataframe tbody tr th {\n",
       "        vertical-align: top;\n",
       "    }\n",
       "\n",
       "    .dataframe thead th {\n",
       "        text-align: right;\n",
       "    }\n",
       "</style>\n",
       "<table border=\"1\" class=\"dataframe\">\n",
       "  <thead>\n",
       "    <tr style=\"text-align: right;\">\n",
       "      <th></th>\n",
       "      <th>Patient Age</th>\n",
       "      <th>Blood cell count (mcL)</th>\n",
       "      <th>Mother's age</th>\n",
       "      <th>Father's age</th>\n",
       "      <th>Test 1</th>\n",
       "      <th>Test 2</th>\n",
       "      <th>Test 3</th>\n",
       "      <th>Test 4</th>\n",
       "      <th>Test 5</th>\n",
       "      <th>No. of previous abortion</th>\n",
       "      <th>White Blood cell count (thousand per microliter)</th>\n",
       "      <th>Symptom 1</th>\n",
       "      <th>Symptom 2</th>\n",
       "      <th>Symptom 3</th>\n",
       "      <th>Symptom 4</th>\n",
       "      <th>Symptom 5</th>\n",
       "    </tr>\n",
       "  </thead>\n",
       "  <tbody>\n",
       "    <tr>\n",
       "      <th>count</th>\n",
       "      <td>16987.000000</td>\n",
       "      <td>18047.000000</td>\n",
       "      <td>13590.000000</td>\n",
       "      <td>13629.000000</td>\n",
       "      <td>16474.0</td>\n",
       "      <td>16459.0</td>\n",
       "      <td>16478.0</td>\n",
       "      <td>16473.0</td>\n",
       "      <td>16451.0</td>\n",
       "      <td>16501.000000</td>\n",
       "      <td>16440.000000</td>\n",
       "      <td>16469.000000</td>\n",
       "      <td>16401.000000</td>\n",
       "      <td>16517.000000</td>\n",
       "      <td>16481.000000</td>\n",
       "      <td>16434.000000</td>\n",
       "    </tr>\n",
       "    <tr>\n",
       "      <th>mean</th>\n",
       "      <td>6.948784</td>\n",
       "      <td>4.899198</td>\n",
       "      <td>34.576453</td>\n",
       "      <td>41.972559</td>\n",
       "      <td>0.0</td>\n",
       "      <td>0.0</td>\n",
       "      <td>0.0</td>\n",
       "      <td>1.0</td>\n",
       "      <td>0.0</td>\n",
       "      <td>1.999455</td>\n",
       "      <td>7.475740</td>\n",
       "      <td>0.591900</td>\n",
       "      <td>0.552100</td>\n",
       "      <td>0.537749</td>\n",
       "      <td>0.498999</td>\n",
       "      <td>0.464342</td>\n",
       "    </tr>\n",
       "    <tr>\n",
       "      <th>std</th>\n",
       "      <td>4.314395</td>\n",
       "      <td>0.199061</td>\n",
       "      <td>9.823005</td>\n",
       "      <td>13.064441</td>\n",
       "      <td>0.0</td>\n",
       "      <td>0.0</td>\n",
       "      <td>0.0</td>\n",
       "      <td>0.0</td>\n",
       "      <td>0.0</td>\n",
       "      <td>1.409470</td>\n",
       "      <td>2.651120</td>\n",
       "      <td>0.491497</td>\n",
       "      <td>0.497293</td>\n",
       "      <td>0.498588</td>\n",
       "      <td>0.500014</td>\n",
       "      <td>0.498742</td>\n",
       "    </tr>\n",
       "    <tr>\n",
       "      <th>min</th>\n",
       "      <td>0.000000</td>\n",
       "      <td>4.146230</td>\n",
       "      <td>18.000000</td>\n",
       "      <td>20.000000</td>\n",
       "      <td>0.0</td>\n",
       "      <td>0.0</td>\n",
       "      <td>0.0</td>\n",
       "      <td>1.0</td>\n",
       "      <td>0.0</td>\n",
       "      <td>0.000000</td>\n",
       "      <td>3.000000</td>\n",
       "      <td>0.000000</td>\n",
       "      <td>0.000000</td>\n",
       "      <td>0.000000</td>\n",
       "      <td>0.000000</td>\n",
       "      <td>0.000000</td>\n",
       "    </tr>\n",
       "    <tr>\n",
       "      <th>25%</th>\n",
       "      <td>3.000000</td>\n",
       "      <td>4.764199</td>\n",
       "      <td>26.000000</td>\n",
       "      <td>30.000000</td>\n",
       "      <td>0.0</td>\n",
       "      <td>0.0</td>\n",
       "      <td>0.0</td>\n",
       "      <td>1.0</td>\n",
       "      <td>0.0</td>\n",
       "      <td>1.000000</td>\n",
       "      <td>5.422143</td>\n",
       "      <td>0.000000</td>\n",
       "      <td>0.000000</td>\n",
       "      <td>0.000000</td>\n",
       "      <td>0.000000</td>\n",
       "      <td>0.000000</td>\n",
       "    </tr>\n",
       "    <tr>\n",
       "      <th>50%</th>\n",
       "      <td>7.000000</td>\n",
       "      <td>4.900306</td>\n",
       "      <td>35.000000</td>\n",
       "      <td>42.000000</td>\n",
       "      <td>0.0</td>\n",
       "      <td>0.0</td>\n",
       "      <td>0.0</td>\n",
       "      <td>1.0</td>\n",
       "      <td>0.0</td>\n",
       "      <td>2.000000</td>\n",
       "      <td>7.470549</td>\n",
       "      <td>1.000000</td>\n",
       "      <td>1.000000</td>\n",
       "      <td>1.000000</td>\n",
       "      <td>0.000000</td>\n",
       "      <td>0.000000</td>\n",
       "    </tr>\n",
       "    <tr>\n",
       "      <th>75%</th>\n",
       "      <td>11.000000</td>\n",
       "      <td>5.033654</td>\n",
       "      <td>43.000000</td>\n",
       "      <td>53.000000</td>\n",
       "      <td>0.0</td>\n",
       "      <td>0.0</td>\n",
       "      <td>0.0</td>\n",
       "      <td>1.0</td>\n",
       "      <td>0.0</td>\n",
       "      <td>3.000000</td>\n",
       "      <td>9.517470</td>\n",
       "      <td>1.000000</td>\n",
       "      <td>1.000000</td>\n",
       "      <td>1.000000</td>\n",
       "      <td>1.000000</td>\n",
       "      <td>1.000000</td>\n",
       "    </tr>\n",
       "    <tr>\n",
       "      <th>max</th>\n",
       "      <td>14.000000</td>\n",
       "      <td>5.609829</td>\n",
       "      <td>51.000000</td>\n",
       "      <td>64.000000</td>\n",
       "      <td>0.0</td>\n",
       "      <td>0.0</td>\n",
       "      <td>0.0</td>\n",
       "      <td>1.0</td>\n",
       "      <td>0.0</td>\n",
       "      <td>4.000000</td>\n",
       "      <td>12.000000</td>\n",
       "      <td>1.000000</td>\n",
       "      <td>1.000000</td>\n",
       "      <td>1.000000</td>\n",
       "      <td>1.000000</td>\n",
       "      <td>1.000000</td>\n",
       "    </tr>\n",
       "  </tbody>\n",
       "</table>\n",
       "</div>"
      ],
      "text/plain": [
       "        Patient Age  Blood cell count (mcL)  Mother's age  Father's age  \\\n",
       "count  16987.000000            18047.000000  13590.000000  13629.000000   \n",
       "mean       6.948784                4.899198     34.576453     41.972559   \n",
       "std        4.314395                0.199061      9.823005     13.064441   \n",
       "min        0.000000                4.146230     18.000000     20.000000   \n",
       "25%        3.000000                4.764199     26.000000     30.000000   \n",
       "50%        7.000000                4.900306     35.000000     42.000000   \n",
       "75%       11.000000                5.033654     43.000000     53.000000   \n",
       "max       14.000000                5.609829     51.000000     64.000000   \n",
       "\n",
       "        Test 1   Test 2   Test 3   Test 4   Test 5  No. of previous abortion  \\\n",
       "count  16474.0  16459.0  16478.0  16473.0  16451.0              16501.000000   \n",
       "mean       0.0      0.0      0.0      1.0      0.0                  1.999455   \n",
       "std        0.0      0.0      0.0      0.0      0.0                  1.409470   \n",
       "min        0.0      0.0      0.0      1.0      0.0                  0.000000   \n",
       "25%        0.0      0.0      0.0      1.0      0.0                  1.000000   \n",
       "50%        0.0      0.0      0.0      1.0      0.0                  2.000000   \n",
       "75%        0.0      0.0      0.0      1.0      0.0                  3.000000   \n",
       "max        0.0      0.0      0.0      1.0      0.0                  4.000000   \n",
       "\n",
       "       White Blood cell count (thousand per microliter)     Symptom 1  \\\n",
       "count                                      16440.000000  16469.000000   \n",
       "mean                                           7.475740      0.591900   \n",
       "std                                            2.651120      0.491497   \n",
       "min                                            3.000000      0.000000   \n",
       "25%                                            5.422143      0.000000   \n",
       "50%                                            7.470549      1.000000   \n",
       "75%                                            9.517470      1.000000   \n",
       "max                                           12.000000      1.000000   \n",
       "\n",
       "          Symptom 2     Symptom 3     Symptom 4     Symptom 5  \n",
       "count  16401.000000  16517.000000  16481.000000  16434.000000  \n",
       "mean       0.552100      0.537749      0.498999      0.464342  \n",
       "std        0.497293      0.498588      0.500014      0.498742  \n",
       "min        0.000000      0.000000      0.000000      0.000000  \n",
       "25%        0.000000      0.000000      0.000000      0.000000  \n",
       "50%        1.000000      1.000000      0.000000      0.000000  \n",
       "75%        1.000000      1.000000      1.000000      1.000000  \n",
       "max        1.000000      1.000000      1.000000      1.000000  "
      ]
     },
     "execution_count": 44,
     "metadata": {},
     "output_type": "execute_result"
    }
   ],
   "source": [
    "df.describe()"
   ]
  },
  {
   "cell_type": "code",
   "execution_count": 45,
   "id": "395f2fb9",
   "metadata": {},
   "outputs": [
    {
     "data": {
      "text/html": [
       "<div>\n",
       "<style scoped>\n",
       "    .dataframe tbody tr th:only-of-type {\n",
       "        vertical-align: middle;\n",
       "    }\n",
       "\n",
       "    .dataframe tbody tr th {\n",
       "        vertical-align: top;\n",
       "    }\n",
       "\n",
       "    .dataframe thead th {\n",
       "        text-align: right;\n",
       "    }\n",
       "</style>\n",
       "<table border=\"1\" class=\"dataframe\">\n",
       "  <thead>\n",
       "    <tr style=\"text-align: right;\">\n",
       "      <th></th>\n",
       "      <th>Patient Age</th>\n",
       "      <th>Blood cell count (mcL)</th>\n",
       "      <th>Mother's age</th>\n",
       "      <th>Father's age</th>\n",
       "      <th>Test 1</th>\n",
       "      <th>Test 2</th>\n",
       "      <th>Test 3</th>\n",
       "      <th>Test 4</th>\n",
       "      <th>Test 5</th>\n",
       "      <th>No. of previous abortion</th>\n",
       "      <th>White Blood cell count (thousand per microliter)</th>\n",
       "    </tr>\n",
       "  </thead>\n",
       "  <tbody>\n",
       "    <tr>\n",
       "      <th>count</th>\n",
       "      <td>9465.000000</td>\n",
       "      <td>9465.000000</td>\n",
       "      <td>9465.000000</td>\n",
       "      <td>9465.000000</td>\n",
       "      <td>7345.0</td>\n",
       "      <td>7384.0</td>\n",
       "      <td>7366.0</td>\n",
       "      <td>7383.0</td>\n",
       "      <td>7374.0</td>\n",
       "      <td>7369.000000</td>\n",
       "      <td>7363.000000</td>\n",
       "    </tr>\n",
       "    <tr>\n",
       "      <th>mean</th>\n",
       "      <td>7.041838</td>\n",
       "      <td>4.900207</td>\n",
       "      <td>34.575489</td>\n",
       "      <td>41.830745</td>\n",
       "      <td>0.0</td>\n",
       "      <td>0.0</td>\n",
       "      <td>0.0</td>\n",
       "      <td>1.0</td>\n",
       "      <td>0.0</td>\n",
       "      <td>2.017099</td>\n",
       "      <td>7.494913</td>\n",
       "    </tr>\n",
       "    <tr>\n",
       "      <th>std</th>\n",
       "      <td>4.337995</td>\n",
       "      <td>0.199159</td>\n",
       "      <td>9.834870</td>\n",
       "      <td>13.040945</td>\n",
       "      <td>0.0</td>\n",
       "      <td>0.0</td>\n",
       "      <td>0.0</td>\n",
       "      <td>0.0</td>\n",
       "      <td>0.0</td>\n",
       "      <td>1.408629</td>\n",
       "      <td>2.657389</td>\n",
       "    </tr>\n",
       "    <tr>\n",
       "      <th>min</th>\n",
       "      <td>0.000000</td>\n",
       "      <td>4.120469</td>\n",
       "      <td>18.000000</td>\n",
       "      <td>20.000000</td>\n",
       "      <td>0.0</td>\n",
       "      <td>0.0</td>\n",
       "      <td>0.0</td>\n",
       "      <td>1.0</td>\n",
       "      <td>0.0</td>\n",
       "      <td>0.000000</td>\n",
       "      <td>3.000000</td>\n",
       "    </tr>\n",
       "    <tr>\n",
       "      <th>25%</th>\n",
       "      <td>3.000000</td>\n",
       "      <td>4.765843</td>\n",
       "      <td>26.000000</td>\n",
       "      <td>30.000000</td>\n",
       "      <td>0.0</td>\n",
       "      <td>0.0</td>\n",
       "      <td>0.0</td>\n",
       "      <td>1.0</td>\n",
       "      <td>0.0</td>\n",
       "      <td>1.000000</td>\n",
       "      <td>5.446564</td>\n",
       "    </tr>\n",
       "    <tr>\n",
       "      <th>50%</th>\n",
       "      <td>7.000000</td>\n",
       "      <td>4.898950</td>\n",
       "      <td>35.000000</td>\n",
       "      <td>42.000000</td>\n",
       "      <td>0.0</td>\n",
       "      <td>0.0</td>\n",
       "      <td>0.0</td>\n",
       "      <td>1.0</td>\n",
       "      <td>0.0</td>\n",
       "      <td>2.000000</td>\n",
       "      <td>7.435213</td>\n",
       "    </tr>\n",
       "    <tr>\n",
       "      <th>75%</th>\n",
       "      <td>11.000000</td>\n",
       "      <td>5.033164</td>\n",
       "      <td>43.000000</td>\n",
       "      <td>53.000000</td>\n",
       "      <td>0.0</td>\n",
       "      <td>0.0</td>\n",
       "      <td>0.0</td>\n",
       "      <td>1.0</td>\n",
       "      <td>0.0</td>\n",
       "      <td>3.000000</td>\n",
       "      <td>9.550831</td>\n",
       "    </tr>\n",
       "    <tr>\n",
       "      <th>max</th>\n",
       "      <td>14.000000</td>\n",
       "      <td>5.676184</td>\n",
       "      <td>51.000000</td>\n",
       "      <td>64.000000</td>\n",
       "      <td>0.0</td>\n",
       "      <td>0.0</td>\n",
       "      <td>0.0</td>\n",
       "      <td>1.0</td>\n",
       "      <td>0.0</td>\n",
       "      <td>4.000000</td>\n",
       "      <td>12.000000</td>\n",
       "    </tr>\n",
       "  </tbody>\n",
       "</table>\n",
       "</div>"
      ],
      "text/plain": [
       "       Patient Age  Blood cell count (mcL)  Mother's age  Father's age  \\\n",
       "count  9465.000000             9465.000000   9465.000000   9465.000000   \n",
       "mean      7.041838                4.900207     34.575489     41.830745   \n",
       "std       4.337995                0.199159      9.834870     13.040945   \n",
       "min       0.000000                4.120469     18.000000     20.000000   \n",
       "25%       3.000000                4.765843     26.000000     30.000000   \n",
       "50%       7.000000                4.898950     35.000000     42.000000   \n",
       "75%      11.000000                5.033164     43.000000     53.000000   \n",
       "max      14.000000                5.676184     51.000000     64.000000   \n",
       "\n",
       "       Test 1  Test 2  Test 3  Test 4  Test 5  No. of previous abortion  \\\n",
       "count  7345.0  7384.0  7366.0  7383.0  7374.0               7369.000000   \n",
       "mean      0.0     0.0     0.0     1.0     0.0                  2.017099   \n",
       "std       0.0     0.0     0.0     0.0     0.0                  1.408629   \n",
       "min       0.0     0.0     0.0     1.0     0.0                  0.000000   \n",
       "25%       0.0     0.0     0.0     1.0     0.0                  1.000000   \n",
       "50%       0.0     0.0     0.0     1.0     0.0                  2.000000   \n",
       "75%       0.0     0.0     0.0     1.0     0.0                  3.000000   \n",
       "max       0.0     0.0     0.0     1.0     0.0                  4.000000   \n",
       "\n",
       "       White Blood cell count (thousand per microliter)  \n",
       "count                                       7363.000000  \n",
       "mean                                           7.494913  \n",
       "std                                            2.657389  \n",
       "min                                            3.000000  \n",
       "25%                                            5.446564  \n",
       "50%                                            7.435213  \n",
       "75%                                            9.550831  \n",
       "max                                           12.000000  "
      ]
     },
     "execution_count": 45,
     "metadata": {},
     "output_type": "execute_result"
    }
   ],
   "source": [
    "test_df.describe()"
   ]
  },
  {
   "cell_type": "markdown",
   "id": "49bad823",
   "metadata": {},
   "source": [
    "## 4. Data Preprocessing"
   ]
  },
  {
   "cell_type": "code",
   "execution_count": 46,
   "id": "dd0e6281",
   "metadata": {},
   "outputs": [],
   "source": [
    "X = df.drop(['Genetic Disorder', 'Disorder Subclass'], axis=1)\n",
    "y1 = df['Genetic Disorder']\n",
    "y2 = df['Disorder Subclass']"
   ]
  },
  {
   "cell_type": "code",
   "execution_count": 47,
   "id": "124008ab",
   "metadata": {},
   "outputs": [],
   "source": [
    "def _drop_cols(data):\n",
    "    '''\n",
    "    Dropping unnecessary columns\n",
    "    '''\n",
    "    drop_cols = ['Patient Id', 'Patient First Name', 'Family Name', \"Father's name\", 'Institute Name',\n",
    "             'Location of Institute', 'Test 1', 'Test 2', 'Test 3', 'Test 4', 'Test 5', 'Parental consent']\n",
    "    data = data.drop(drop_cols, axis=1)\n",
    "    return data"
   ]
  },
  {
   "cell_type": "code",
   "execution_count": 48,
   "id": "144e0431",
   "metadata": {},
   "outputs": [],
   "source": [
    "X = _drop_cols(X)\n",
    "test_df = _drop_cols(test_df)"
   ]
  },
  {
   "cell_type": "code",
   "execution_count": 49,
   "id": "d4145e7f",
   "metadata": {},
   "outputs": [],
   "source": [
    "def _data_cleaning(data):\n",
    "    '''\n",
    "    Cleaning the dataset\n",
    "    '''\n",
    "    data['Birth asphyxia'] = data['Birth asphyxia'].replace('No record', 'Not available')\n",
    "    data['Autopsy shows birth defect (if applicable)'] = data['Autopsy shows birth defect (if applicable)'].replace('None', 'Not applicable')\n",
    "    data['H/O radiation exposure (x-ray)'] = data['H/O radiation exposure (x-ray)'].replace('-', 'Not applicable')\n",
    "    data['H/O substance abuse'] = data['H/O substance abuse'].replace('-', 'Not applicable')\n",
    "    return data"
   ]
  },
  {
   "cell_type": "code",
   "execution_count": 50,
   "id": "0526f545",
   "metadata": {},
   "outputs": [],
   "source": [
    "X = _data_cleaning(X)\n",
    "test_df = _data_cleaning(test_df)"
   ]
  },
  {
   "cell_type": "code",
   "execution_count": 51,
   "id": "1e2ca8d0",
   "metadata": {},
   "outputs": [],
   "source": [
    "def _data_imputing(data):\n",
    "    '''\n",
    "    Imputing missing values\n",
    "    '''\n",
    "    # categorical columns\n",
    "    mode_cols = []\n",
    "    \n",
    "    # numerical columns\n",
    "    median_cols = []\n",
    "    \n",
    "    for col in data.columns:\n",
    "        if(len(data[col].unique()) < 6):\n",
    "            mode_cols.append(col)\n",
    "        else:\n",
    "            median_cols.append(col)\n",
    "            \n",
    "    # Filling null values\n",
    "    for lab in mode_cols:\n",
    "        data[lab] = data[lab].fillna(data[lab].mode()[0])\n",
    "    \n",
    "    for lab in median_cols:\n",
    "        data[lab] = data[lab].fillna(data[lab].median())\n",
    "    return data"
   ]
  },
  {
   "cell_type": "code",
   "execution_count": 52,
   "id": "a65efb99",
   "metadata": {},
   "outputs": [],
   "source": [
    "X = _data_imputing(X)\n",
    "test_df = _data_imputing(test_df)"
   ]
  },
  {
   "cell_type": "code",
   "execution_count": 53,
   "id": "ffe97661",
   "metadata": {},
   "outputs": [],
   "source": [
    "# Categorical columns\n",
    "mode_cols = []\n",
    "\n",
    "# Numerical columns\n",
    "median_cols = []\n",
    "\n",
    "for col in X.columns:\n",
    "    if(len(X[col].unique()) < 6):\n",
    "        mode_cols.append(col)\n",
    "    else:\n",
    "        median_cols.append(col)"
   ]
  },
  {
   "cell_type": "code",
   "execution_count": 54,
   "id": "2f6a827d",
   "metadata": {},
   "outputs": [],
   "source": [
    "ord_encoder = OrdinalEncoder()\n",
    "minmax_scaler = MinMaxScaler()\n",
    "\n",
    "# Encoding the categorical columns\n",
    "for cat in mode_cols:\n",
    "    label_fit = ord_encoder.fit(np.array(X[cat]).reshape(-1, 1))\n",
    "    X[cat] = label_fit.transform(np.array(X[cat]).reshape(-1, 1))\n",
    "    test_df[cat] = label_fit.transform(np.array(test_df[cat]).reshape(-1, 1))\n",
    "\n",
    "# Normalizing numerical columns\n",
    "scaler_fit = minmax_scaler.fit(X[median_cols])\n",
    "X[median_cols] = scaler_fit.transform(X[median_cols])\n",
    "test_df[median_cols] = scaler_fit.transform(test_df[median_cols])"
   ]
  },
  {
   "cell_type": "code",
   "execution_count": 55,
   "id": "fa03f0d3",
   "metadata": {},
   "outputs": [
    {
     "data": {
      "text/html": [
       "<div>\n",
       "<style scoped>\n",
       "    .dataframe tbody tr th:only-of-type {\n",
       "        vertical-align: middle;\n",
       "    }\n",
       "\n",
       "    .dataframe tbody tr th {\n",
       "        vertical-align: top;\n",
       "    }\n",
       "\n",
       "    .dataframe thead th {\n",
       "        text-align: right;\n",
       "    }\n",
       "</style>\n",
       "<table border=\"1\" class=\"dataframe\">\n",
       "  <thead>\n",
       "    <tr style=\"text-align: right;\">\n",
       "      <th></th>\n",
       "      <th>Patient Age</th>\n",
       "      <th>Genes in mother's side</th>\n",
       "      <th>Inherited from father</th>\n",
       "      <th>Maternal gene</th>\n",
       "      <th>Paternal gene</th>\n",
       "      <th>Blood cell count (mcL)</th>\n",
       "      <th>Mother's age</th>\n",
       "      <th>Father's age</th>\n",
       "      <th>Status</th>\n",
       "      <th>Respiratory Rate (breaths/min)</th>\n",
       "      <th>...</th>\n",
       "      <th>History of anomalies in previous pregnancies</th>\n",
       "      <th>No. of previous abortion</th>\n",
       "      <th>Birth defects</th>\n",
       "      <th>White Blood cell count (thousand per microliter)</th>\n",
       "      <th>Blood test result</th>\n",
       "      <th>Symptom 1</th>\n",
       "      <th>Symptom 2</th>\n",
       "      <th>Symptom 3</th>\n",
       "      <th>Symptom 4</th>\n",
       "      <th>Symptom 5</th>\n",
       "    </tr>\n",
       "  </thead>\n",
       "  <tbody>\n",
       "    <tr>\n",
       "      <th>0</th>\n",
       "      <td>0.142857</td>\n",
       "      <td>1.0</td>\n",
       "      <td>0.0</td>\n",
       "      <td>1.0</td>\n",
       "      <td>0.0</td>\n",
       "      <td>0.419769</td>\n",
       "      <td>0.515152</td>\n",
       "      <td>0.500000</td>\n",
       "      <td>0.0</td>\n",
       "      <td>0.0</td>\n",
       "      <td>...</td>\n",
       "      <td>1.0</td>\n",
       "      <td>2.0</td>\n",
       "      <td>0.0</td>\n",
       "      <td>0.761951</td>\n",
       "      <td>3.0</td>\n",
       "      <td>1.0</td>\n",
       "      <td>1.0</td>\n",
       "      <td>1.0</td>\n",
       "      <td>1.0</td>\n",
       "      <td>1.0</td>\n",
       "    </tr>\n",
       "    <tr>\n",
       "      <th>2</th>\n",
       "      <td>0.428571</td>\n",
       "      <td>1.0</td>\n",
       "      <td>0.0</td>\n",
       "      <td>0.0</td>\n",
       "      <td>0.0</td>\n",
       "      <td>0.510432</td>\n",
       "      <td>0.696970</td>\n",
       "      <td>0.045455</td>\n",
       "      <td>0.0</td>\n",
       "      <td>0.0</td>\n",
       "      <td>...</td>\n",
       "      <td>1.0</td>\n",
       "      <td>4.0</td>\n",
       "      <td>1.0</td>\n",
       "      <td>0.496728</td>\n",
       "      <td>2.0</td>\n",
       "      <td>0.0</td>\n",
       "      <td>1.0</td>\n",
       "      <td>1.0</td>\n",
       "      <td>1.0</td>\n",
       "      <td>1.0</td>\n",
       "    </tr>\n",
       "    <tr>\n",
       "      <th>3</th>\n",
       "      <td>0.857143</td>\n",
       "      <td>1.0</td>\n",
       "      <td>0.0</td>\n",
       "      <td>1.0</td>\n",
       "      <td>0.0</td>\n",
       "      <td>0.381970</td>\n",
       "      <td>0.090909</td>\n",
       "      <td>0.500000</td>\n",
       "      <td>1.0</td>\n",
       "      <td>1.0</td>\n",
       "      <td>...</td>\n",
       "      <td>1.0</td>\n",
       "      <td>1.0</td>\n",
       "      <td>1.0</td>\n",
       "      <td>0.546591</td>\n",
       "      <td>1.0</td>\n",
       "      <td>0.0</td>\n",
       "      <td>0.0</td>\n",
       "      <td>1.0</td>\n",
       "      <td>0.0</td>\n",
       "      <td>0.0</td>\n",
       "    </tr>\n",
       "    <tr>\n",
       "      <th>4</th>\n",
       "      <td>0.785714</td>\n",
       "      <td>1.0</td>\n",
       "      <td>0.0</td>\n",
       "      <td>1.0</td>\n",
       "      <td>1.0</td>\n",
       "      <td>0.392507</td>\n",
       "      <td>0.424242</td>\n",
       "      <td>0.500000</td>\n",
       "      <td>0.0</td>\n",
       "      <td>1.0</td>\n",
       "      <td>...</td>\n",
       "      <td>0.0</td>\n",
       "      <td>4.0</td>\n",
       "      <td>0.0</td>\n",
       "      <td>0.122023</td>\n",
       "      <td>3.0</td>\n",
       "      <td>0.0</td>\n",
       "      <td>0.0</td>\n",
       "      <td>0.0</td>\n",
       "      <td>0.0</td>\n",
       "      <td>0.0</td>\n",
       "    </tr>\n",
       "    <tr>\n",
       "      <th>5</th>\n",
       "      <td>1.000000</td>\n",
       "      <td>1.0</td>\n",
       "      <td>0.0</td>\n",
       "      <td>1.0</td>\n",
       "      <td>0.0</td>\n",
       "      <td>0.653839</td>\n",
       "      <td>0.515152</td>\n",
       "      <td>0.500000</td>\n",
       "      <td>1.0</td>\n",
       "      <td>0.0</td>\n",
       "      <td>...</td>\n",
       "      <td>0.0</td>\n",
       "      <td>0.0</td>\n",
       "      <td>0.0</td>\n",
       "      <td>0.808026</td>\n",
       "      <td>2.0</td>\n",
       "      <td>1.0</td>\n",
       "      <td>0.0</td>\n",
       "      <td>0.0</td>\n",
       "      <td>1.0</td>\n",
       "      <td>0.0</td>\n",
       "    </tr>\n",
       "  </tbody>\n",
       "</table>\n",
       "<p>5 rows × 31 columns</p>\n",
       "</div>"
      ],
      "text/plain": [
       "   Patient Age  Genes in mother's side  Inherited from father  Maternal gene  \\\n",
       "0     0.142857                     1.0                    0.0            1.0   \n",
       "2     0.428571                     1.0                    0.0            0.0   \n",
       "3     0.857143                     1.0                    0.0            1.0   \n",
       "4     0.785714                     1.0                    0.0            1.0   \n",
       "5     1.000000                     1.0                    0.0            1.0   \n",
       "\n",
       "   Paternal gene  Blood cell count (mcL)  Mother's age  Father's age  Status  \\\n",
       "0            0.0                0.419769      0.515152      0.500000     0.0   \n",
       "2            0.0                0.510432      0.696970      0.045455     0.0   \n",
       "3            0.0                0.381970      0.090909      0.500000     1.0   \n",
       "4            1.0                0.392507      0.424242      0.500000     0.0   \n",
       "5            0.0                0.653839      0.515152      0.500000     1.0   \n",
       "\n",
       "   Respiratory Rate (breaths/min)  ...  \\\n",
       "0                             0.0  ...   \n",
       "2                             0.0  ...   \n",
       "3                             1.0  ...   \n",
       "4                             1.0  ...   \n",
       "5                             0.0  ...   \n",
       "\n",
       "   History of anomalies in previous pregnancies  No. of previous abortion  \\\n",
       "0                                           1.0                       2.0   \n",
       "2                                           1.0                       4.0   \n",
       "3                                           1.0                       1.0   \n",
       "4                                           0.0                       4.0   \n",
       "5                                           0.0                       0.0   \n",
       "\n",
       "   Birth defects  White Blood cell count (thousand per microliter)  \\\n",
       "0            0.0                                          0.761951   \n",
       "2            1.0                                          0.496728   \n",
       "3            1.0                                          0.546591   \n",
       "4            0.0                                          0.122023   \n",
       "5            0.0                                          0.808026   \n",
       "\n",
       "   Blood test result  Symptom 1  Symptom 2  Symptom 3  Symptom 4  Symptom 5  \n",
       "0                3.0        1.0        1.0        1.0        1.0        1.0  \n",
       "2                2.0        0.0        1.0        1.0        1.0        1.0  \n",
       "3                1.0        0.0        0.0        1.0        0.0        0.0  \n",
       "4                3.0        0.0        0.0        0.0        0.0        0.0  \n",
       "5                2.0        1.0        0.0        0.0        1.0        0.0  \n",
       "\n",
       "[5 rows x 31 columns]"
      ]
     },
     "execution_count": 55,
     "metadata": {},
     "output_type": "execute_result"
    }
   ],
   "source": [
    "X.head()"
   ]
  },
  {
   "cell_type": "code",
   "execution_count": 56,
   "id": "6452aca4",
   "metadata": {},
   "outputs": [
    {
     "data": {
      "text/html": [
       "<div>\n",
       "<style scoped>\n",
       "    .dataframe tbody tr th:only-of-type {\n",
       "        vertical-align: middle;\n",
       "    }\n",
       "\n",
       "    .dataframe tbody tr th {\n",
       "        vertical-align: top;\n",
       "    }\n",
       "\n",
       "    .dataframe thead th {\n",
       "        text-align: right;\n",
       "    }\n",
       "</style>\n",
       "<table border=\"1\" class=\"dataframe\">\n",
       "  <thead>\n",
       "    <tr style=\"text-align: right;\">\n",
       "      <th></th>\n",
       "      <th>Patient Age</th>\n",
       "      <th>Genes in mother's side</th>\n",
       "      <th>Inherited from father</th>\n",
       "      <th>Maternal gene</th>\n",
       "      <th>Paternal gene</th>\n",
       "      <th>Blood cell count (mcL)</th>\n",
       "      <th>Mother's age</th>\n",
       "      <th>Father's age</th>\n",
       "      <th>Status</th>\n",
       "      <th>Respiratory Rate (breaths/min)</th>\n",
       "      <th>...</th>\n",
       "      <th>History of anomalies in previous pregnancies</th>\n",
       "      <th>No. of previous abortion</th>\n",
       "      <th>Birth defects</th>\n",
       "      <th>White Blood cell count (thousand per microliter)</th>\n",
       "      <th>Blood test result</th>\n",
       "      <th>Symptom 1</th>\n",
       "      <th>Symptom 2</th>\n",
       "      <th>Symptom 3</th>\n",
       "      <th>Symptom 4</th>\n",
       "      <th>Symptom 5</th>\n",
       "    </tr>\n",
       "  </thead>\n",
       "  <tbody>\n",
       "    <tr>\n",
       "      <th>0</th>\n",
       "      <td>0.428571</td>\n",
       "      <td>0.0</td>\n",
       "      <td>1.0</td>\n",
       "      <td>0.0</td>\n",
       "      <td>0.0</td>\n",
       "      <td>0.570802</td>\n",
       "      <td>0.606061</td>\n",
       "      <td>0.931818</td>\n",
       "      <td>0.0</td>\n",
       "      <td>1.0</td>\n",
       "      <td>...</td>\n",
       "      <td>0.0</td>\n",
       "      <td>2.0</td>\n",
       "      <td>0.0</td>\n",
       "      <td>0.492801</td>\n",
       "      <td>3.0</td>\n",
       "      <td>1.0</td>\n",
       "      <td>1.0</td>\n",
       "      <td>1.0</td>\n",
       "      <td>1.0</td>\n",
       "      <td>1.0</td>\n",
       "    </tr>\n",
       "    <tr>\n",
       "      <th>1</th>\n",
       "      <td>0.714286</td>\n",
       "      <td>1.0</td>\n",
       "      <td>0.0</td>\n",
       "      <td>1.0</td>\n",
       "      <td>1.0</td>\n",
       "      <td>0.664567</td>\n",
       "      <td>0.454545</td>\n",
       "      <td>0.750000</td>\n",
       "      <td>0.0</td>\n",
       "      <td>0.0</td>\n",
       "      <td>...</td>\n",
       "      <td>1.0</td>\n",
       "      <td>2.0</td>\n",
       "      <td>0.0</td>\n",
       "      <td>0.575509</td>\n",
       "      <td>2.0</td>\n",
       "      <td>0.0</td>\n",
       "      <td>0.0</td>\n",
       "      <td>0.0</td>\n",
       "      <td>1.0</td>\n",
       "      <td>0.0</td>\n",
       "    </tr>\n",
       "    <tr>\n",
       "      <th>2</th>\n",
       "      <td>0.357143</td>\n",
       "      <td>0.0</td>\n",
       "      <td>0.0</td>\n",
       "      <td>0.0</td>\n",
       "      <td>0.0</td>\n",
       "      <td>0.498753</td>\n",
       "      <td>0.909091</td>\n",
       "      <td>0.909091</td>\n",
       "      <td>1.0</td>\n",
       "      <td>0.0</td>\n",
       "      <td>...</td>\n",
       "      <td>0.0</td>\n",
       "      <td>0.0</td>\n",
       "      <td>1.0</td>\n",
       "      <td>0.492801</td>\n",
       "      <td>3.0</td>\n",
       "      <td>0.0</td>\n",
       "      <td>0.0</td>\n",
       "      <td>1.0</td>\n",
       "      <td>1.0</td>\n",
       "      <td>0.0</td>\n",
       "    </tr>\n",
       "    <tr>\n",
       "      <th>3</th>\n",
       "      <td>0.928571</td>\n",
       "      <td>0.0</td>\n",
       "      <td>1.0</td>\n",
       "      <td>1.0</td>\n",
       "      <td>0.0</td>\n",
       "      <td>0.370004</td>\n",
       "      <td>0.212121</td>\n",
       "      <td>0.795455</td>\n",
       "      <td>0.0</td>\n",
       "      <td>0.0</td>\n",
       "      <td>...</td>\n",
       "      <td>1.0</td>\n",
       "      <td>2.0</td>\n",
       "      <td>1.0</td>\n",
       "      <td>0.431563</td>\n",
       "      <td>2.0</td>\n",
       "      <td>1.0</td>\n",
       "      <td>0.0</td>\n",
       "      <td>1.0</td>\n",
       "      <td>0.0</td>\n",
       "      <td>1.0</td>\n",
       "    </tr>\n",
       "    <tr>\n",
       "      <th>4</th>\n",
       "      <td>0.357143</td>\n",
       "      <td>0.0</td>\n",
       "      <td>0.0</td>\n",
       "      <td>1.0</td>\n",
       "      <td>1.0</td>\n",
       "      <td>0.687437</td>\n",
       "      <td>0.696970</td>\n",
       "      <td>0.409091</td>\n",
       "      <td>1.0</td>\n",
       "      <td>1.0</td>\n",
       "      <td>...</td>\n",
       "      <td>0.0</td>\n",
       "      <td>2.0</td>\n",
       "      <td>0.0</td>\n",
       "      <td>0.355020</td>\n",
       "      <td>2.0</td>\n",
       "      <td>1.0</td>\n",
       "      <td>1.0</td>\n",
       "      <td>1.0</td>\n",
       "      <td>1.0</td>\n",
       "      <td>0.0</td>\n",
       "    </tr>\n",
       "  </tbody>\n",
       "</table>\n",
       "<p>5 rows × 31 columns</p>\n",
       "</div>"
      ],
      "text/plain": [
       "   Patient Age  Genes in mother's side  Inherited from father  Maternal gene  \\\n",
       "0     0.428571                     0.0                    1.0            0.0   \n",
       "1     0.714286                     1.0                    0.0            1.0   \n",
       "2     0.357143                     0.0                    0.0            0.0   \n",
       "3     0.928571                     0.0                    1.0            1.0   \n",
       "4     0.357143                     0.0                    0.0            1.0   \n",
       "\n",
       "   Paternal gene  Blood cell count (mcL)  Mother's age  Father's age  Status  \\\n",
       "0            0.0                0.570802      0.606061      0.931818     0.0   \n",
       "1            1.0                0.664567      0.454545      0.750000     0.0   \n",
       "2            0.0                0.498753      0.909091      0.909091     1.0   \n",
       "3            0.0                0.370004      0.212121      0.795455     0.0   \n",
       "4            1.0                0.687437      0.696970      0.409091     1.0   \n",
       "\n",
       "   Respiratory Rate (breaths/min)  ...  \\\n",
       "0                             1.0  ...   \n",
       "1                             0.0  ...   \n",
       "2                             0.0  ...   \n",
       "3                             0.0  ...   \n",
       "4                             1.0  ...   \n",
       "\n",
       "   History of anomalies in previous pregnancies  No. of previous abortion  \\\n",
       "0                                           0.0                       2.0   \n",
       "1                                           1.0                       2.0   \n",
       "2                                           0.0                       0.0   \n",
       "3                                           1.0                       2.0   \n",
       "4                                           0.0                       2.0   \n",
       "\n",
       "   Birth defects  White Blood cell count (thousand per microliter)  \\\n",
       "0            0.0                                          0.492801   \n",
       "1            0.0                                          0.575509   \n",
       "2            1.0                                          0.492801   \n",
       "3            1.0                                          0.431563   \n",
       "4            0.0                                          0.355020   \n",
       "\n",
       "   Blood test result  Symptom 1  Symptom 2  Symptom 3  Symptom 4  Symptom 5  \n",
       "0                3.0        1.0        1.0        1.0        1.0        1.0  \n",
       "1                2.0        0.0        0.0        0.0        1.0        0.0  \n",
       "2                3.0        0.0        0.0        1.0        1.0        0.0  \n",
       "3                2.0        1.0        0.0        1.0        0.0        1.0  \n",
       "4                2.0        1.0        1.0        1.0        1.0        0.0  \n",
       "\n",
       "[5 rows x 31 columns]"
      ]
     },
     "execution_count": 56,
     "metadata": {},
     "output_type": "execute_result"
    }
   ],
   "source": [
    "test_df.head()"
   ]
  },
  {
   "cell_type": "markdown",
   "id": "b8b75428",
   "metadata": {},
   "source": [
    "## 5. Model Experimentation"
   ]
  },
  {
   "cell_type": "code",
   "execution_count": 57,
   "id": "22c55307",
   "metadata": {},
   "outputs": [],
   "source": [
    "# Label encoding the target\n",
    "\n",
    "# Target 1\n",
    "lab_y1 = LabelEncoder()\n",
    "y1 = lab_y1.fit_transform(y1)\n",
    "\n",
    "# Target 2\n",
    "lab_y2 = LabelEncoder()\n",
    "y2 = lab_y2.fit_transform(y2)"
   ]
  },
  {
   "cell_type": "code",
   "execution_count": 58,
   "id": "827c612f",
   "metadata": {},
   "outputs": [],
   "source": [
    "# Oversampling using SMOTE\n",
    "\n",
    "# Target 1\n",
    "X1_, y1_ = SMOTE().fit_resample(X, y1)\n",
    "\n",
    "# Target 2\n",
    "X2_, y2_ = SMOTE().fit_resample(X, y2)"
   ]
  },
  {
   "cell_type": "code",
   "execution_count": 59,
   "id": "998dfdc7",
   "metadata": {},
   "outputs": [],
   "source": [
    "def _model_experimentation(models, X, y):\n",
    "    model_scores = {}\n",
    "    for name, model in models.items():\n",
    "        print(name)\n",
    "        model_scores[name] = np.mean(cross_val_score(model, X, y, cv=10, n_jobs=-1, scoring='f1_macro')) * 100\n",
    "    return model_scores"
   ]
  },
  {
   "cell_type": "code",
   "execution_count": 60,
   "id": "583128dd",
   "metadata": {},
   "outputs": [
    {
     "name": "stdout",
     "output_type": "stream",
     "text": [
      "RFC\n",
      "XGB\n",
      "GB\n",
      "ADA\n",
      "LGB\n",
      "KNN\n",
      "LR\n",
      "DT\n",
      "RFC\n",
      "XGB\n",
      "GB\n",
      "ADA\n",
      "LGB\n",
      "KNN\n",
      "LR\n",
      "DT\n"
     ]
    }
   ],
   "source": [
    "models = {\"RFC\" : RandomForestClassifier(n_jobs=-1),\n",
    "          \"XGB\" : XGBClassifier(n_jobs=-1),\n",
    "          \"GB\"  : GradientBoostingClassifier(),\n",
    "          \"ADA\" : AdaBoostClassifier(),\n",
    "          \"LGB\" : LGBMClassifier(),\n",
    "          \"KNN\" : KNeighborsClassifier(),\n",
    "          \"LR\"  : LogisticRegression(),\n",
    "          \"DT\"  : DecisionTreeClassifier()}\n",
    "\n",
    "score1 = _model_experimentation(models, X1_, y1_)\n",
    "score2 = _model_experimentation(models, X2_, y2_)"
   ]
  },
  {
   "cell_type": "code",
   "execution_count": 61,
   "id": "51167558",
   "metadata": {},
   "outputs": [
    {
     "data": {
      "text/plain": [
       "{'RFC': 71.2901243357021,\n",
       " 'XGB': 66.71795208798264,\n",
       " 'GB': 62.922693543188366,\n",
       " 'ADA': 55.380298648626244,\n",
       " 'LGB': 67.00546593973212,\n",
       " 'KNN': 59.3973584597563,\n",
       " 'LR': 55.54577125232657,\n",
       " 'DT': 62.50095646360585}"
      ]
     },
     "execution_count": 61,
     "metadata": {},
     "output_type": "execute_result"
    }
   ],
   "source": [
    "score1"
   ]
  },
  {
   "cell_type": "code",
   "execution_count": 62,
   "id": "136c2dd9",
   "metadata": {},
   "outputs": [
    {
     "data": {
      "text/plain": [
       "{'RFC': 75.47576678107501,\n",
       " 'XGB': 68.18936010624567,\n",
       " 'GB': 55.36685057179434,\n",
       " 'ADA': 40.45289892872512,\n",
       " 'LGB': 66.39346141708215,\n",
       " 'KNN': 64.99780874598905,\n",
       " 'LR': 45.29809781791744,\n",
       " 'DT': 60.29714802080189}"
      ]
     },
     "execution_count": 62,
     "metadata": {},
     "output_type": "execute_result"
    }
   ],
   "source": [
    "score2"
   ]
  },
  {
   "cell_type": "markdown",
   "id": "d05c3f83",
   "metadata": {},
   "source": [
    "## 6. Submission"
   ]
  },
  {
   "cell_type": "code",
   "execution_count": 72,
   "id": "ea58d1fc",
   "metadata": {},
   "outputs": [],
   "source": [
    "def _submission(models, X1, X2, test, y1, y2):\n",
    "    for name, model in models.items():\n",
    "        # Training the model\n",
    "        ml_model1 = model\n",
    "        ml_model1.fit(X1, y1)\n",
    "        \n",
    "        # Making predicitions for Target 1\n",
    "        pred1 = ml_model1.predict(test)\n",
    "        \n",
    "        # Inverse encoding the predictions\n",
    "        pred1 = lab_y1.inverse_transform(pred1)\n",
    "        \n",
    "        # Training the model\n",
    "        ml_model2 = model\n",
    "        ml_model2.fit(X2, y2)\n",
    "        \n",
    "        # Making predicitions for Target 2\n",
    "        pred2 = ml_model1.predict(test)\n",
    "        \n",
    "        # Inverse encoding the predictions\n",
    "        pred2 = lab_y2.inverse_transform(pred2)\n",
    "\n",
    "        subm = pd.DataFrame()\n",
    "        subm['Patient Id'] = test_id\n",
    "        subm['Genetic Disorder'] = pred1\n",
    "        subm['Disorder Subclass'] = pred2\n",
    "        \n",
    "        subm.to_csv('Submission_'+name+'.csv', index=False)"
   ]
  },
  {
   "cell_type": "code",
   "execution_count": 73,
   "id": "f11eb7e4",
   "metadata": {},
   "outputs": [
    {
     "name": "stderr",
     "output_type": "stream",
     "text": [
      "C:\\ProgramData\\Anaconda3\\lib\\site-packages\\xgboost\\sklearn.py:1146: UserWarning: The use of label encoder in XGBClassifier is deprecated and will be removed in a future release. To remove this warning, do the following: 1) Pass option use_label_encoder=False when constructing XGBClassifier object; and 2) Encode your labels (y) as integers starting with 0, i.e. 0, 1, 2, ..., [num_class - 1].\n",
      "  warnings.warn(label_encoder_deprecation_msg, UserWarning)\n"
     ]
    },
    {
     "name": "stdout",
     "output_type": "stream",
     "text": [
      "[22:14:46] WARNING: ..\\src\\learner.cc:1095: Starting in XGBoost 1.3.0, the default evaluation metric used with the objective 'multi:softprob' was changed from 'merror' to 'mlogloss'. Explicitly set eval_metric if you'd like to restore the old behavior.\n"
     ]
    },
    {
     "name": "stderr",
     "output_type": "stream",
     "text": [
      "C:\\ProgramData\\Anaconda3\\lib\\site-packages\\xgboost\\data.py:112: UserWarning: Use subset (sliced data) of np.ndarray is not recommended because it will generate extra copies and increase memory consumption\n",
      "  warnings.warn(\n"
     ]
    },
    {
     "name": "stdout",
     "output_type": "stream",
     "text": [
      "[22:14:53] WARNING: ..\\src\\learner.cc:1095: Starting in XGBoost 1.3.0, the default evaluation metric used with the objective 'multi:softprob' was changed from 'merror' to 'mlogloss'. Explicitly set eval_metric if you'd like to restore the old behavior.\n"
     ]
    },
    {
     "name": "stderr",
     "output_type": "stream",
     "text": [
      "C:\\ProgramData\\Anaconda3\\lib\\site-packages\\sklearn\\linear_model\\_logistic.py:763: ConvergenceWarning: lbfgs failed to converge (status=1):\n",
      "STOP: TOTAL NO. of ITERATIONS REACHED LIMIT.\n",
      "\n",
      "Increase the number of iterations (max_iter) or scale the data as shown in:\n",
      "    https://scikit-learn.org/stable/modules/preprocessing.html\n",
      "Please also refer to the documentation for alternative solver options:\n",
      "    https://scikit-learn.org/stable/modules/linear_model.html#logistic-regression\n",
      "  n_iter_i = _check_optimize_result(\n"
     ]
    }
   ],
   "source": [
    "_submission(models, X1_, X2_, test_df, y1_, y2_)"
   ]
  },
  {
   "cell_type": "code",
   "execution_count": null,
   "id": "8d2da2de",
   "metadata": {},
   "outputs": [],
   "source": []
  }
 ],
 "metadata": {
  "kernelspec": {
   "display_name": "Python 3",
   "language": "python",
   "name": "python3"
  },
  "language_info": {
   "codemirror_mode": {
    "name": "ipython",
    "version": 3
   },
   "file_extension": ".py",
   "mimetype": "text/x-python",
   "name": "python",
   "nbconvert_exporter": "python",
   "pygments_lexer": "ipython3",
   "version": "3.8.8"
  }
 },
 "nbformat": 4,
 "nbformat_minor": 5
}
